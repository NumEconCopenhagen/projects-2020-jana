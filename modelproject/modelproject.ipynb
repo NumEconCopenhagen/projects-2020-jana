{
 "cells": [
  {
   "cell_type": "markdown",
   "metadata": {},
   "source": [
    "# Project 2: Model Project\n",
    "**Name:** Jana Ucnova (pvw581) // Spring Semester 2020"
   ]
  },
  {
   "cell_type": "markdown",
   "metadata": {},
   "source": [
    "# Ramsey model"
   ]
  },
  {
   "cell_type": "markdown",
   "metadata": {},
   "source": [
    "Firstly, modules needed are imported. "
   ]
  },
  {
   "cell_type": "code",
   "execution_count": 1,
   "metadata": {},
   "outputs": [],
   "source": [
    "import numpy as np\n",
    "import mpmath as mp\n",
    "import sympy\n",
    "import matplotlib.pyplot as plt\n",
    "from scipy import optimize\n",
    "import sympy as sm\n",
    "import ipywidgets as widgets"
   ]
  },
  {
   "cell_type": "markdown",
   "metadata": {},
   "source": [
    "## Model description\n",
    "In this project, we will focus on neoclassic **Ramsey model** of economic growth.\n",
    "\n",
    "In Ramsey model, there is **a finite number of homogeneous agents** with **an infinite time horizon**. Therefore, it is considered as representative agent model. A **closed economy** is considered and time is continuous. At any point in time there are **three markets** - one for output goods, one for labor and rental market for capital goods. \n",
    "\n",
    "There are **two types of agents**. On one hand, there are **firms**. They rent capital and hire labor. They want to maximize their profit. On the other hand, **households** own capital, they supply labor and consume. They deside how much it is optimal to consume and save, so they can maximize their utility.\n",
    "\n",
    "We have **four variables**:\n",
    "- Output: $Y_t$\n",
    "- Capital: $K_t$\n",
    "- Labor supply: $L_t$\n",
    "- Consumption: $C_t$\n",
    "\n",
    "However, we will mostly consider these variables per worker, i.e.\n",
    "- Output per worker: $y_t = \\frac{Y_t}{L_t}$\n",
    "- Capital per worker: $k_t = \\frac{K_t}{L_t}$\n",
    "- Labor per worker: $l_t = 1$\n",
    "- Consumption per worker: $c_t = \\frac{C_t}{L_t}$\n",
    "\n",
    "Moreover, prices are taken as given by both firms and households. We have\n",
    "- Wage rate: $w_t$\n",
    "- Rental rate of capital: $r_t$\n",
    "\n",
    "Capital depreciates at rate $\\delta>0$ by period. Therefore, the return on household savings, $R_t$, is given by\n",
    "\n",
    "$$ R_t = 1 + r_t - \\delta$$"
   ]
  },
  {
   "cell_type": "markdown",
   "metadata": {},
   "source": [
    "### 1. Firms\n",
    "Firms are owned by households. They rent capital for $r_t$ and hire labor for $w_t$ to produce goods. Then profits are transferred to the households. Firms have an accesss to production technology that is given by **production function**: \n",
    "\n",
    "$$\n",
    "Y_t = F(K_t,L_t) = f(k_t)L_t\n",
    "$$\n",
    "\n",
    "The reresentative firm maximizes profit:\n",
    "\n",
    "$$\n",
    "\\underset{K_t,L_t}{\\mathrm{max}} F(K_t,L_t) - r_rK_t - w_tL_t\n",
    "$$\n",
    "\n",
    "with first order conditions\n",
    "\n",
    "$$\n",
    "F_K(K_t,L_t)= f'(k_t) = r_t \\\\\n",
    "F_L(K_t,L_t) = f(k_t) - f'(k_t)k_t = w_t\n",
    "$$\n",
    "\n",
    "that define demand functions for capital and labor.\n",
    "\n",
    "### 2. Households\n",
    "Households work for real wage. They use it for either consumption or they save it in the form of\n",
    "accumulating assets, on which they later get interest income. Households try to maximize their current happiness and happiness of all their future descendants, i.e. **overall utility**. They maximize the discounted sum of utility from consumption:\n",
    "\n",
    "$$\n",
    "\\underset{\\{c_t\\}_{t=0}^{\\infty}}{\\mathrm{max}} \\sum_{t=0}^{\\infty} \\beta^tu(c_t)\n",
    "$$\n",
    "\n",
    "where $u'(c_t)>0$, $u''(c_t)<0$ and $\\beta \\in (0,1)$ is a discount factor. Moreover constrains are given by\n",
    "\n",
    "$$\n",
    "k_{t+1} = R_tk_t + w_t - c_t \\\\\n",
    "\\underset{t \\to \\infty}{\\mathrm{lim}}\\frac{k_t}{\\mathcal{R}_t } \\geq 0 \\\\\n",
    "\\mathcal{R}_t = \\prod_{j=0}^{t}R_j\n",
    "$$\n",
    "with $k_0$, and paths for $\\{R_t\\}_{t=0}^{\\infty}$ and $\\{w_t\\}_{t=0}^{\\infty}$ given. \n",
    "\n",
    "Optimal behavior of household is implied by Euler equation:\n",
    "\n",
    "$$\n",
    "\\frac{u'(c_t)}{u'(c_{t+1})} = \\beta R_{t+1}\n",
    "$$"
   ]
  },
  {
   "cell_type": "markdown",
   "metadata": {},
   "source": [
    "We consider CRRA utility function\n",
    "$$\n",
    "u(c_t) = \\frac{c_t^{1- \\gamma}}{1- \\gamma}\n",
    "$$\n",
    "where $\\gamma>0$, and Cobb-Douglas production function defined as\n",
    "$$\n",
    "F(K_t,L_t) = AK_t^{\\alpha}L_t^{1-\\alpha}\n",
    "$$\n",
    "where $\\alpha \\in (0,1)$ and $A>0$.\n",
    "This implies that\n",
    "$$\n",
    "f(k_t) = Ak_t^{\\alpha}\n",
    "$$\n",
    "and therefore\n",
    "$$\n",
    "r_t = A \\alpha k_t^{\\alpha-1} \\\\\n",
    "w_t = A(1-\\alpha)k_t^{\\alpha}\n",
    "$$"
   ]
  },
  {
   "cell_type": "markdown",
   "metadata": {},
   "source": [
    "## Steady state\n",
    "### Analytical solution"
   ]
  },
  {
   "cell_type": "markdown",
   "metadata": {},
   "source": [
    "To find an analytical solution of **steady state**, we use **sympy**. Firstly, we find an analytical expression for Euler equation with respect to $c_{t+1}$.\n",
    "\n",
    "Then, we need to define all symbols."
   ]
  },
  {
   "cell_type": "code",
   "execution_count": 2,
   "metadata": {},
   "outputs": [],
   "source": [
    "gamma = sm.symbols('gamma')\n",
    "delta = sm.symbols('delta')\n",
    "c1 = sm.symbols('c_t')\n",
    "c2 = sm.symbols('c_{t+1}')\n",
    "k1 = sm.symbols('k_t')\n",
    "R = sm.symbols('R_{t+1}')\n",
    "beta = sm.symbols('beta')\n",
    "A = sm.symbols('A')\n",
    "alpha = sm.symbols('alpha')\n",
    "kss = sm.symbols('k_{ss}')\n",
    "css = sm.symbols('c_{ss}')\n",
    "u = sm.symbols('u')\n",
    "r = A*alpha*k1**(alpha-1)\n",
    "w = A*(1-alpha)*k1**alpha\n",
    "R = 1 + r - delta"
   ]
  },
  {
   "cell_type": "markdown",
   "metadata": {},
   "source": [
    "Utility function is given by"
   ]
  },
  {
   "cell_type": "code",
   "execution_count": 3,
   "metadata": {},
   "outputs": [
    {
     "output_type": "display_data",
     "data": {
      "text/plain": "c_t**(1 - gamma)/(1 - gamma)",
      "text/latex": "$\\displaystyle \\frac{c_{t}^{1 - \\gamma}}{1 - \\gamma}$"
     },
     "metadata": {}
    },
    {
     "output_type": "display_data",
     "data": {
      "text/plain": "c_{t+1}**(1 - gamma)/(1 - gamma)",
      "text/latex": "$\\displaystyle \\frac{c_{t+1}^{1 - \\gamma}}{1 - \\gamma}$"
     },
     "metadata": {}
    }
   ],
   "source": [
    "utilityfun1 = c1**(1-gamma)/(1-gamma)\n",
    "utilityfun2 = c2**(1-gamma)/(1-gamma)\n",
    "display(utilityfun1,utilityfun2)"
   ]
  },
  {
   "cell_type": "markdown",
   "metadata": {},
   "source": [
    "Euler equation is then given by"
   ]
  },
  {
   "cell_type": "code",
   "execution_count": 4,
   "metadata": {},
   "outputs": [
    {
     "output_type": "execute_result",
     "data": {
      "text/plain": "Eq(c_t**(1 - gamma)*c_{t+1}*c_{t+1}**(gamma - 1)/c_t, beta*(A*alpha*k_t**(alpha - 1) - delta + 1))",
      "text/latex": "$\\displaystyle \\frac{c_{t}^{1 - \\gamma} c_{t+1} c_{t+1}^{\\gamma - 1}}{c_{t}} = \\beta \\left(A \\alpha k_{t}^{\\alpha - 1} - \\delta + 1\\right)$"
     },
     "metadata": {},
     "execution_count": 4
    }
   ],
   "source": [
    "eulereq = sm.Eq(sm.diff(utilityfun1,c1)/sm.diff(utilityfun2,c2),beta*R)\n",
    "eulereq"
   ]
  },
  {
   "cell_type": "markdown",
   "metadata": {},
   "source": [
    "We solve Euler equation with respect to $c_{t+1}$ and obain:"
   ]
  },
  {
   "cell_type": "code",
   "execution_count": 5,
   "metadata": {},
   "outputs": [
    {
     "output_type": "execute_result",
     "data": {
      "text/plain": "Eq(c_{t+1}, (beta*c_t**gamma*(A*alpha*k_t**alpha - delta*k_t + k_t)/k_t)**(1/gamma))",
      "text/latex": "$\\displaystyle c_{t+1} = \\left(\\frac{\\beta c_{t}^{\\gamma} \\left(A \\alpha k_{t}^{\\alpha} - \\delta k_{t} + k_{t}\\right)}{k_{t}}\\right)^{\\frac{1}{\\gamma}}$"
     },
     "metadata": {},
     "execution_count": 5
    }
   ],
   "source": [
    "eulereq_sol = sm.solve(eulereq,c2)[0]\n",
    "sm.Eq(c2,eulereq_sol)"
   ]
  },
  {
   "cell_type": "markdown",
   "metadata": {},
   "source": [
    "In steady state, it holds that the level of capital and consumption is constant, i.e. $k_{t+1}=k_t$ and $c_{t+1}=c_t$.\n",
    "From Euler equation, steady state of capital can be expressed as\n"
   ]
  },
  {
   "cell_type": "code",
   "execution_count": 6,
   "metadata": {},
   "outputs": [
    {
     "output_type": "execute_result",
     "data": {
      "text/plain": "Eq(k_{ss}, ((beta*(delta - 1) + 1)/(A*alpha*beta))**(1/(alpha - 1)))",
      "text/latex": "$\\displaystyle k_{ss} = \\left(\\frac{\\beta \\left(\\delta - 1\\right) + 1}{A \\alpha \\beta}\\right)^{\\frac{1}{\\alpha - 1}}$"
     },
     "metadata": {},
     "execution_count": 6
    }
   ],
   "source": [
    "steady_state_c = sm.Eq(eulereq_sol,c1)\n",
    "steady_state_c\n",
    "steady_state_c_sol = sm.solve(steady_state_c,k1)\n",
    "sm.Eq(kss,steady_state_c_sol[0])"
   ]
  },
  {
   "cell_type": "markdown",
   "metadata": {},
   "source": [
    "From budget constraint $k_{t+1} = R_tk_t + w_t - c_t $, steady state of consumption is expressed as"
   ]
  },
  {
   "cell_type": "code",
   "execution_count": 7,
   "metadata": {},
   "outputs": [
    {
     "output_type": "execute_result",
     "data": {
      "text/plain": "Eq(c_{ss}, A*k_t**alpha - delta*k_t)",
      "text/latex": "$\\displaystyle c_{ss} = A k_{t}^{\\alpha} - \\delta k_{t}$"
     },
     "metadata": {},
     "execution_count": 7
    }
   ],
   "source": [
    "steady_state_k = sm.Eq(k1,(R*k1+w-c1))\n",
    "steady_state_k\n",
    "steady_state_k_sol = sm.solve(steady_state_k,c1)\n",
    "sm.Eq(css,steady_state_k_sol[0])"
   ]
  },
  {
   "cell_type": "markdown",
   "metadata": {},
   "source": [
    "These two equations define steady state for Ramsey model."
   ]
  },
  {
   "cell_type": "markdown",
   "metadata": {},
   "source": [
    "### Numerical solution"
   ]
  },
  {
   "cell_type": "markdown",
   "metadata": {},
   "source": [
    "Firstly, we choose parameters:"
   ]
  },
  {
   "cell_type": "code",
   "execution_count": 8,
   "metadata": {},
   "outputs": [],
   "source": [
    "beta = 0.96\n",
    "delta = 0.10\n",
    "alpha = 1/3\n",
    "gamma = 0.3\n",
    "A = 2"
   ]
  },
  {
   "cell_type": "markdown",
   "metadata": {},
   "source": [
    "We want to find steady state levels of consumption, $c_{ss}$, and capital, $k_{ss}$.\n",
    "\n",
    "To do that, we need to define functions from the setup."
   ]
  },
  {
   "cell_type": "code",
   "execution_count": 9,
   "metadata": {},
   "outputs": [],
   "source": [
    "# Utility function\n",
    "def u(c):\n",
    "    \"\"\"\n",
    "    Inputs:\n",
    "        1) c: current period's level of consumption per worker\n",
    "    \n",
    "    Returns:\n",
    "        1) Value of current period's utility\n",
    "\n",
    "    \"\"\"\n",
    "    if gamma != 1:\n",
    "        return (c**(1 - gamma) - 1) / (1 - gamma)\n",
    "    else:\n",
    "        return np.log(c) # When gamma = 1, we obtain log function\n",
    "\n",
    "# Lifetime utility function for an agent who lives for only two periods\n",
    "# Beta is discount factor, 0 < beta < 1\n",
    "def U(c1, c2):\n",
    "    \"\"\"\n",
    "    Inputs:\n",
    "        1) C1: consumption per worker in period 1\n",
    "        2) C2: consumption per worker in period 2\n",
    "        \n",
    "    Returns:\n",
    "        1) Value of utility for lifetime consumption\n",
    "         \n",
    "    \"\"\"\n",
    "    return u(c1) + beta * u(c2)\n",
    "\n",
    "# Intensive production function f(k)\n",
    "# Where A > 0 and 0 < alpha < 1\n",
    "def f(k):\n",
    "    \"\"\"\n",
    "    Inputs:\n",
    "        1) k_t: current period's level of capital per worker\n",
    "        \n",
    "    Returns:\n",
    "        1) y_t: current period's output per worker\n",
    "        \n",
    "    \"\"\"\n",
    "\n",
    "    return A*k**alpha\n",
    "\n",
    "# Rental rate of capital r_t\n",
    "def r(k):\n",
    "    \"\"\"\n",
    "    Inputs:\n",
    "        1) k_t: current period's level of capital per worker\n",
    "        \n",
    "    Returns:\n",
    "        1) r_t: current period's level of rental rate of capital\n",
    "        \n",
    "    \"\"\"\n",
    "\n",
    "    return A*alpha*k**(alpha-1)\n",
    "\n",
    "# Wage rate w_t\n",
    "def w(k):\n",
    "    \"\"\"\n",
    "    Inputs:\n",
    "        1) k_t: current period's level of capital per worker\n",
    "        \n",
    "    Returns:\n",
    "        1) w_t: current period's level of wage rate\n",
    "        \n",
    "    \"\"\"\n",
    "    \n",
    "    return A*(1-alpha)*k**alpha\n",
    "\n",
    "# Return on household savings R_t\n",
    "def R(k):\n",
    "    \"\"\"\n",
    "    Inputs:\n",
    "        1) k_t: current period's level of capital per worker\n",
    "        \n",
    "    Returns:\n",
    "        1) R_t: current period's level of return on household savings\n",
    "        \n",
    "    \"\"\"\n",
    "\n",
    "    return 1+r(k)-delta\n"
   ]
  },
  {
   "cell_type": "markdown",
   "metadata": {},
   "source": [
    "We define another two functions. The first on is a **budget constraint**, i.e. $k_{t+1} = R_tk_t + w_t - c_t $, that gives us the level of next period's capital per worker. The second one is Euler equation with respect to $c_{t+1}$, i.e. $c_{t+1}=c_t(\\beta R_{t+1})^{1/\\gamma}$."
   ]
  },
  {
   "cell_type": "code",
   "execution_count": 10,
   "metadata": {},
   "outputs": [],
   "source": [
    "# Next period's capital stock per worker\n",
    "def capital(k,c):\n",
    "    \"\"\"\n",
    "    Inputs:\n",
    "        1) k_t: current period's level of capital per worker\n",
    "        2) c_t: current period's level of consumption per worker\n",
    "        \n",
    "    Returns:\n",
    "        1) k_t+1: next period's capital stock per worker\n",
    "        \n",
    "    \"\"\"\n",
    "    return (R(k))*k + w(k) - c\n",
    "\n",
    "\n",
    "# Euler equation that gives next period's consumption per worker\n",
    "def euler(k,c):\n",
    "    \"\"\"\n",
    "    Inputs:\n",
    "        1) k_t: next period's level of capital per effective worker\n",
    "        2) c_t: current period's level of consumption per effective worker\n",
    "        \n",
    "    Returns:\n",
    "        1) c_t+1: next period's consumption per effective worker\n",
    "        \n",
    "    \"\"\"\n",
    "    return (beta*R(k))**(1/gamma)*c"
   ]
  },
  {
   "cell_type": "markdown",
   "metadata": {},
   "source": [
    "We define functions that gives us the difference in capital and consumption between any two periods. In steady state, it hold that $k_{t+1}=k_t$ and $c_{t+1}=c_t$."
   ]
  },
  {
   "cell_type": "code",
   "execution_count": 11,
   "metadata": {},
   "outputs": [],
   "source": [
    "# The change in capital stock per worker between any two periods is\n",
    "# k_t+1 - k_t = capital(k, c) - k\n",
    "# In steady state, capital stock per worker is constant, i.e. k_t=k_t+1\n",
    "# Thus, steady state values of k and c must solve \n",
    "# capital(k,c) - k = 0\n",
    "\n",
    "def F1(k,c):\n",
    "    \n",
    "    return capital(k,c) - k\n",
    "\n",
    "\n",
    "# The change in consumption between any two periods is\n",
    "# c_t+1 - c_t = euler(k, c) - c\n",
    "# In steady state, also consumption is constant, i.e. c_t+1=c_t\n",
    "# Thus, steady state values of k and c must solve \n",
    "# euler(k,c) - c = 0\n",
    "\n",
    "def F2(k,c):\n",
    "    \n",
    "    return euler(k,c) - c\n",
    "\n",
    "# Get steady state\n",
    "def ramseySteadyState(X):\n",
    "    out = [F1(X[0], X[1])]\n",
    "    out.append(F2(X[0], X[1]))\n",
    "    return out"
   ]
  },
  {
   "cell_type": "markdown",
   "metadata": {},
   "source": [
    "Now, we want to find steady state values of capital and consumption. Equations **capital** and **euler** form two equation dynamical sytem with two unknowns. It must therefore hold that\n",
    "\n",
    "F1(k_ss, c_ss) = 0\n",
    "\n",
    "F2(k_ss, c_ss) = 0\n",
    "\n",
    "That is a root-finding problem. We fill use the function *fsolve()* to find these roots."
   ]
  },
  {
   "cell_type": "code",
   "execution_count": 13,
   "metadata": {},
   "outputs": [
    {
     "output_type": "stream",
     "name": "stdout",
     "text": "Steady state for given parameters is defined by:\nk_ss = 10.2085\nc_ss = 3.3178\nr_ss = 0.1417\nw_ss = 2.8924\n"
    }
   ],
   "source": [
    "# Our guess\n",
    "k0, c0 = 1, 1\n",
    "\n",
    "# Use solver to define steady state\n",
    "k_SS, c_SS = optimize.fsolve(func=ramseySteadyState, x0=(k0, c0))\n",
    "r_ss = r(k_SS)\n",
    "w_ss = w(k_SS)\n",
    "\n",
    "# Print results\n",
    "print('Steady state for given parameters is defined by:')\n",
    "print(f\"k_ss = {k_SS:.4f}\")\n",
    "print(f\"c_ss = {c_SS:.4f}\")\n",
    "print(f\"r_ss = {r_ss:.4f}\")\n",
    "print(f\"w_ss = {w_ss:.4f}\")"
   ]
  },
  {
   "cell_type": "markdown",
   "metadata": {},
   "source": [
    "## Futher analysis\n",
    "Now, we would like to vizualize steady state. We define functions for steady state."
   ]
  },
  {
   "cell_type": "code",
   "execution_count": 14,
   "metadata": {},
   "outputs": [],
   "source": [
    "# The steady-state level of capital stock per effective worker\n",
    "def k_ss(): \n",
    "   \n",
    "    return ((beta*delta-beta+1)/(A*alpha*beta))**(1/(alpha-1))\n",
    "\n",
    "# The steady-state level of consumption per effective worker\n",
    "def c_ss(): \n",
    "   \n",
    "    return A*k_ss()**alpha-delta*k_ss()\n",
    "\n",
    "# Define a function that takes k as an input and return the value of c consistent with F1(k, c) = 0\n",
    "def locusK(k):\n",
    "    \"\"\"\n",
    "    Inputs:\n",
    "        1) k: capital stock per effective worker\n",
    "        \n",
    "    Returns:\n",
    "        1) c: consumption per effective worker \n",
    "        \n",
    "    \"\"\"\n",
    "    return f(k)  - delta * k"
   ]
  },
  {
   "cell_type": "markdown",
   "metadata": {},
   "source": [
    "And we construct the plot."
   ]
  },
  {
   "cell_type": "code",
   "execution_count": 15,
   "metadata": {},
   "outputs": [
    {
     "output_type": "display_data",
     "data": {
      "text/plain": "<Figure size 1152x576 with 1 Axes>",
      "image/svg+xml": "<?xml version=\"1.0\" encoding=\"utf-8\" standalone=\"no\"?>\r\n<!DOCTYPE svg PUBLIC \"-//W3C//DTD SVG 1.1//EN\"\r\n  \"http://www.w3.org/Graphics/SVG/1.1/DTD/svg11.dtd\">\r\n<!-- Created with matplotlib (https://matplotlib.org/) -->\r\n<svg height=\"500.833125pt\" version=\"1.1\" viewBox=\"0 0 938.40625 500.833125\" width=\"938.40625pt\" xmlns=\"http://www.w3.org/2000/svg\" xmlns:xlink=\"http://www.w3.org/1999/xlink\">\r\n <defs>\r\n  <style type=\"text/css\">\r\n*{stroke-linecap:butt;stroke-linejoin:round;}\r\n  </style>\r\n </defs>\r\n <g id=\"figure_1\">\r\n  <g id=\"patch_1\">\r\n   <path d=\"M 0 500.833125 \r\nL 938.40625 500.833125 \r\nL 938.40625 0 \r\nL 0 0 \r\nz\r\n\" style=\"fill:none;\"/>\r\n  </g>\r\n  <g id=\"axes_1\">\r\n   <g id=\"patch_2\">\r\n    <path d=\"M 28.8625 463.276875 \r\nL 921.6625 463.276875 \r\nL 921.6625 28.396875 \r\nL 28.8625 28.396875 \r\nz\r\n\" style=\"fill:#ffffff;\"/>\r\n   </g>\r\n   <g id=\"patch_3\">\r\n    <path clip-path=\"url(#p2a62836dc6)\" d=\"M 82.821618 328.219095 \r\nL 82.834877 328.545255 \r\nL 82.826038 328.545255 \r\nL 82.826038 343.041255 \r\nL 82.817198 343.041255 \r\nL 82.817198 328.545255 \r\nL 82.808358 328.545255 \r\nz\r\n\" style=\"fill:#708090;stroke:#708090;stroke-linejoin:miter;\"/>\r\n   </g>\r\n   <g id=\"patch_4\">\r\n    <path clip-path=\"url(#p2a62836dc6)\" d=\"M 127.059416 343.041255 \r\nL 127.019638 343.149975 \r\nL 127.019638 343.077495 \r\nL 82.821618 343.077495 \r\nL 82.821618 343.005015 \r\nL 127.019638 343.005015 \r\nL 127.019638 342.932535 \r\nz\r\n\" style=\"fill:#708090;stroke:#708090;stroke-linejoin:miter;\"/>\r\n   </g>\r\n   <g id=\"patch_5\">\r\n    <path clip-path=\"url(#p2a62836dc6)\" d=\"M 127.019638 87.747854 \r\nL 127.032897 88.074014 \r\nL 127.024057 88.074014 \r\nL 127.024057 102.570014 \r\nL 127.015218 102.570014 \r\nL 127.015218 88.074014 \r\nL 127.006378 88.074014 \r\nz\r\n\" style=\"fill:#708090;stroke:#708090;stroke-linejoin:miter;\"/>\r\n   </g>\r\n   <g id=\"patch_6\">\r\n    <path clip-path=\"url(#p2a62836dc6)\" d=\"M 82.781839 102.570014 \r\nL 82.821618 102.461294 \r\nL 82.821618 102.533774 \r\nL 127.019638 102.533774 \r\nL 127.019638 102.606254 \r\nL 82.821618 102.606254 \r\nL 82.821618 102.678734 \r\nz\r\n\" style=\"fill:#708090;stroke:#708090;stroke-linejoin:miter;\"/>\r\n   </g>\r\n   <g id=\"patch_7\">\r\n    <path clip-path=\"url(#p2a62836dc6)\" d=\"M 173.060645 343.367415 \r\nL 173.047386 343.041255 \r\nL 173.056225 343.041255 \r\nL 173.056225 328.545255 \r\nL 173.065065 328.545255 \r\nL 173.065065 343.041255 \r\nL 173.073905 343.041255 \r\nz\r\n\" style=\"fill:#708090;stroke:#708090;stroke-linejoin:miter;\"/>\r\n   </g>\r\n   <g id=\"patch_8\">\r\n    <path clip-path=\"url(#p2a62836dc6)\" d=\"M 217.298443 328.545255 \r\nL 217.258665 328.653975 \r\nL 217.258665 328.581495 \r\nL 173.060645 328.581495 \r\nL 173.060645 328.509015 \r\nL 217.258665 328.509015 \r\nL 217.258665 328.436535 \r\nz\r\n\" style=\"fill:#708090;stroke:#708090;stroke-linejoin:miter;\"/>\r\n   </g>\r\n   <g id=\"patch_9\">\r\n    <path clip-path=\"url(#p2a62836dc6)\" d=\"M 217.258665 102.896174 \r\nL 217.245406 102.570014 \r\nL 217.254245 102.570014 \r\nL 217.254245 88.074014 \r\nL 217.263085 88.074014 \r\nL 217.263085 102.570014 \r\nL 217.271924 102.570014 \r\nz\r\n\" style=\"fill:#708090;stroke:#708090;stroke-linejoin:miter;\"/>\r\n   </g>\r\n   <g id=\"patch_10\">\r\n    <path clip-path=\"url(#p2a62836dc6)\" d=\"M 173.020867 88.074014 \r\nL 173.060645 87.965294 \r\nL 173.060645 88.037774 \r\nL 217.258665 88.037774 \r\nL 217.258665 88.110254 \r\nL 173.060645 88.110254 \r\nL 173.060645 88.182734 \r\nz\r\n\" style=\"fill:#708090;stroke:#708090;stroke-linejoin:miter;\"/>\r\n   </g>\r\n   <g id=\"matplotlib.axis_1\">\r\n    <g id=\"xtick_1\">\r\n     <g id=\"line2d_1\">\r\n      <path clip-path=\"url(#p2a62836dc6)\" d=\"M 37.702104 463.276875 \r\nL 37.702104 28.396875 \r\n\" style=\"fill:none;stroke:#b0b0b0;stroke-linecap:square;stroke-width:0.8;\"/>\r\n     </g>\r\n     <g id=\"line2d_2\">\r\n      <defs>\r\n       <path d=\"M 0 0 \r\nL 0 3.5 \r\n\" id=\"m6ef4a7cff1\" style=\"stroke:#000000;stroke-width:0.8;\"/>\r\n      </defs>\r\n      <g>\r\n       <use style=\"stroke:#000000;stroke-width:0.8;\" x=\"37.702104\" xlink:href=\"#m6ef4a7cff1\" y=\"463.276875\"/>\r\n      </g>\r\n     </g>\r\n     <g id=\"text_1\">\r\n      <!-- 0 -->\r\n      <defs>\r\n       <path d=\"M 31.78125 66.40625 \r\nQ 24.171875 66.40625 20.328125 58.90625 \r\nQ 16.5 51.421875 16.5 36.375 \r\nQ 16.5 21.390625 20.328125 13.890625 \r\nQ 24.171875 6.390625 31.78125 6.390625 \r\nQ 39.453125 6.390625 43.28125 13.890625 \r\nQ 47.125 21.390625 47.125 36.375 \r\nQ 47.125 51.421875 43.28125 58.90625 \r\nQ 39.453125 66.40625 31.78125 66.40625 \r\nz\r\nM 31.78125 74.21875 \r\nQ 44.046875 74.21875 50.515625 64.515625 \r\nQ 56.984375 54.828125 56.984375 36.375 \r\nQ 56.984375 17.96875 50.515625 8.265625 \r\nQ 44.046875 -1.421875 31.78125 -1.421875 \r\nQ 19.53125 -1.421875 13.0625 8.265625 \r\nQ 6.59375 17.96875 6.59375 36.375 \r\nQ 6.59375 54.828125 13.0625 64.515625 \r\nQ 19.53125 74.21875 31.78125 74.21875 \r\nz\r\n\" id=\"DejaVuSans-48\"/>\r\n      </defs>\r\n      <g transform=\"translate(34.520854 477.875312)scale(0.1 -0.1)\">\r\n       <use xlink:href=\"#DejaVuSans-48\"/>\r\n      </g>\r\n     </g>\r\n    </g>\r\n    <g id=\"xtick_2\">\r\n     <g id=\"line2d_3\">\r\n      <path clip-path=\"url(#p2a62836dc6)\" d=\"M 214.494183 463.276875 \r\nL 214.494183 28.396875 \r\n\" style=\"fill:none;stroke:#b0b0b0;stroke-linecap:square;stroke-width:0.8;\"/>\r\n     </g>\r\n     <g id=\"line2d_4\">\r\n      <g>\r\n       <use style=\"stroke:#000000;stroke-width:0.8;\" x=\"214.494183\" xlink:href=\"#m6ef4a7cff1\" y=\"463.276875\"/>\r\n      </g>\r\n     </g>\r\n     <g id=\"text_2\">\r\n      <!-- 20 -->\r\n      <defs>\r\n       <path d=\"M 19.1875 8.296875 \r\nL 53.609375 8.296875 \r\nL 53.609375 0 \r\nL 7.328125 0 \r\nL 7.328125 8.296875 \r\nQ 12.9375 14.109375 22.625 23.890625 \r\nQ 32.328125 33.6875 34.8125 36.53125 \r\nQ 39.546875 41.84375 41.421875 45.53125 \r\nQ 43.3125 49.21875 43.3125 52.78125 \r\nQ 43.3125 58.59375 39.234375 62.25 \r\nQ 35.15625 65.921875 28.609375 65.921875 \r\nQ 23.96875 65.921875 18.8125 64.3125 \r\nQ 13.671875 62.703125 7.8125 59.421875 \r\nL 7.8125 69.390625 \r\nQ 13.765625 71.78125 18.9375 73 \r\nQ 24.125 74.21875 28.421875 74.21875 \r\nQ 39.75 74.21875 46.484375 68.546875 \r\nQ 53.21875 62.890625 53.21875 53.421875 \r\nQ 53.21875 48.921875 51.53125 44.890625 \r\nQ 49.859375 40.875 45.40625 35.40625 \r\nQ 44.1875 33.984375 37.640625 27.21875 \r\nQ 31.109375 20.453125 19.1875 8.296875 \r\nz\r\n\" id=\"DejaVuSans-50\"/>\r\n      </defs>\r\n      <g transform=\"translate(208.131683 477.875312)scale(0.1 -0.1)\">\r\n       <use xlink:href=\"#DejaVuSans-50\"/>\r\n       <use x=\"63.623047\" xlink:href=\"#DejaVuSans-48\"/>\r\n      </g>\r\n     </g>\r\n    </g>\r\n    <g id=\"xtick_3\">\r\n     <g id=\"line2d_5\">\r\n      <path clip-path=\"url(#p2a62836dc6)\" d=\"M 391.286262 463.276875 \r\nL 391.286262 28.396875 \r\n\" style=\"fill:none;stroke:#b0b0b0;stroke-linecap:square;stroke-width:0.8;\"/>\r\n     </g>\r\n     <g id=\"line2d_6\">\r\n      <g>\r\n       <use style=\"stroke:#000000;stroke-width:0.8;\" x=\"391.286262\" xlink:href=\"#m6ef4a7cff1\" y=\"463.276875\"/>\r\n      </g>\r\n     </g>\r\n     <g id=\"text_3\">\r\n      <!-- 40 -->\r\n      <defs>\r\n       <path d=\"M 37.796875 64.3125 \r\nL 12.890625 25.390625 \r\nL 37.796875 25.390625 \r\nz\r\nM 35.203125 72.90625 \r\nL 47.609375 72.90625 \r\nL 47.609375 25.390625 \r\nL 58.015625 25.390625 \r\nL 58.015625 17.1875 \r\nL 47.609375 17.1875 \r\nL 47.609375 0 \r\nL 37.796875 0 \r\nL 37.796875 17.1875 \r\nL 4.890625 17.1875 \r\nL 4.890625 26.703125 \r\nz\r\n\" id=\"DejaVuSans-52\"/>\r\n      </defs>\r\n      <g transform=\"translate(384.923762 477.875312)scale(0.1 -0.1)\">\r\n       <use xlink:href=\"#DejaVuSans-52\"/>\r\n       <use x=\"63.623047\" xlink:href=\"#DejaVuSans-48\"/>\r\n      </g>\r\n     </g>\r\n    </g>\r\n    <g id=\"xtick_4\">\r\n     <g id=\"line2d_7\">\r\n      <path clip-path=\"url(#p2a62836dc6)\" d=\"M 568.078342 463.276875 \r\nL 568.078342 28.396875 \r\n\" style=\"fill:none;stroke:#b0b0b0;stroke-linecap:square;stroke-width:0.8;\"/>\r\n     </g>\r\n     <g id=\"line2d_8\">\r\n      <g>\r\n       <use style=\"stroke:#000000;stroke-width:0.8;\" x=\"568.078342\" xlink:href=\"#m6ef4a7cff1\" y=\"463.276875\"/>\r\n      </g>\r\n     </g>\r\n     <g id=\"text_4\">\r\n      <!-- 60 -->\r\n      <defs>\r\n       <path d=\"M 33.015625 40.375 \r\nQ 26.375 40.375 22.484375 35.828125 \r\nQ 18.609375 31.296875 18.609375 23.390625 \r\nQ 18.609375 15.53125 22.484375 10.953125 \r\nQ 26.375 6.390625 33.015625 6.390625 \r\nQ 39.65625 6.390625 43.53125 10.953125 \r\nQ 47.40625 15.53125 47.40625 23.390625 \r\nQ 47.40625 31.296875 43.53125 35.828125 \r\nQ 39.65625 40.375 33.015625 40.375 \r\nz\r\nM 52.59375 71.296875 \r\nL 52.59375 62.3125 \r\nQ 48.875 64.0625 45.09375 64.984375 \r\nQ 41.3125 65.921875 37.59375 65.921875 \r\nQ 27.828125 65.921875 22.671875 59.328125 \r\nQ 17.53125 52.734375 16.796875 39.40625 \r\nQ 19.671875 43.65625 24.015625 45.921875 \r\nQ 28.375 48.1875 33.59375 48.1875 \r\nQ 44.578125 48.1875 50.953125 41.515625 \r\nQ 57.328125 34.859375 57.328125 23.390625 \r\nQ 57.328125 12.15625 50.6875 5.359375 \r\nQ 44.046875 -1.421875 33.015625 -1.421875 \r\nQ 20.359375 -1.421875 13.671875 8.265625 \r\nQ 6.984375 17.96875 6.984375 36.375 \r\nQ 6.984375 53.65625 15.1875 63.9375 \r\nQ 23.390625 74.21875 37.203125 74.21875 \r\nQ 40.921875 74.21875 44.703125 73.484375 \r\nQ 48.484375 72.75 52.59375 71.296875 \r\nz\r\n\" id=\"DejaVuSans-54\"/>\r\n      </defs>\r\n      <g transform=\"translate(561.715842 477.875312)scale(0.1 -0.1)\">\r\n       <use xlink:href=\"#DejaVuSans-54\"/>\r\n       <use x=\"63.623047\" xlink:href=\"#DejaVuSans-48\"/>\r\n      </g>\r\n     </g>\r\n    </g>\r\n    <g id=\"xtick_5\">\r\n     <g id=\"line2d_9\">\r\n      <path clip-path=\"url(#p2a62836dc6)\" d=\"M 744.870421 463.276875 \r\nL 744.870421 28.396875 \r\n\" style=\"fill:none;stroke:#b0b0b0;stroke-linecap:square;stroke-width:0.8;\"/>\r\n     </g>\r\n     <g id=\"line2d_10\">\r\n      <g>\r\n       <use style=\"stroke:#000000;stroke-width:0.8;\" x=\"744.870421\" xlink:href=\"#m6ef4a7cff1\" y=\"463.276875\"/>\r\n      </g>\r\n     </g>\r\n     <g id=\"text_5\">\r\n      <!-- 80 -->\r\n      <defs>\r\n       <path d=\"M 31.78125 34.625 \r\nQ 24.75 34.625 20.71875 30.859375 \r\nQ 16.703125 27.09375 16.703125 20.515625 \r\nQ 16.703125 13.921875 20.71875 10.15625 \r\nQ 24.75 6.390625 31.78125 6.390625 \r\nQ 38.8125 6.390625 42.859375 10.171875 \r\nQ 46.921875 13.96875 46.921875 20.515625 \r\nQ 46.921875 27.09375 42.890625 30.859375 \r\nQ 38.875 34.625 31.78125 34.625 \r\nz\r\nM 21.921875 38.8125 \r\nQ 15.578125 40.375 12.03125 44.71875 \r\nQ 8.5 49.078125 8.5 55.328125 \r\nQ 8.5 64.0625 14.71875 69.140625 \r\nQ 20.953125 74.21875 31.78125 74.21875 \r\nQ 42.671875 74.21875 48.875 69.140625 \r\nQ 55.078125 64.0625 55.078125 55.328125 \r\nQ 55.078125 49.078125 51.53125 44.71875 \r\nQ 48 40.375 41.703125 38.8125 \r\nQ 48.828125 37.15625 52.796875 32.3125 \r\nQ 56.78125 27.484375 56.78125 20.515625 \r\nQ 56.78125 9.90625 50.3125 4.234375 \r\nQ 43.84375 -1.421875 31.78125 -1.421875 \r\nQ 19.734375 -1.421875 13.25 4.234375 \r\nQ 6.78125 9.90625 6.78125 20.515625 \r\nQ 6.78125 27.484375 10.78125 32.3125 \r\nQ 14.796875 37.15625 21.921875 38.8125 \r\nz\r\nM 18.3125 54.390625 \r\nQ 18.3125 48.734375 21.84375 45.5625 \r\nQ 25.390625 42.390625 31.78125 42.390625 \r\nQ 38.140625 42.390625 41.71875 45.5625 \r\nQ 45.3125 48.734375 45.3125 54.390625 \r\nQ 45.3125 60.0625 41.71875 63.234375 \r\nQ 38.140625 66.40625 31.78125 66.40625 \r\nQ 25.390625 66.40625 21.84375 63.234375 \r\nQ 18.3125 60.0625 18.3125 54.390625 \r\nz\r\n\" id=\"DejaVuSans-56\"/>\r\n      </defs>\r\n      <g transform=\"translate(738.507921 477.875312)scale(0.1 -0.1)\">\r\n       <use xlink:href=\"#DejaVuSans-56\"/>\r\n       <use x=\"63.623047\" xlink:href=\"#DejaVuSans-48\"/>\r\n      </g>\r\n     </g>\r\n    </g>\r\n    <g id=\"xtick_6\">\r\n     <g id=\"line2d_11\">\r\n      <path clip-path=\"url(#p2a62836dc6)\" d=\"M 921.6625 463.276875 \r\nL 921.6625 28.396875 \r\n\" style=\"fill:none;stroke:#b0b0b0;stroke-linecap:square;stroke-width:0.8;\"/>\r\n     </g>\r\n     <g id=\"line2d_12\">\r\n      <g>\r\n       <use style=\"stroke:#000000;stroke-width:0.8;\" x=\"921.6625\" xlink:href=\"#m6ef4a7cff1\" y=\"463.276875\"/>\r\n      </g>\r\n     </g>\r\n     <g id=\"text_6\">\r\n      <!-- 100 -->\r\n      <defs>\r\n       <path d=\"M 12.40625 8.296875 \r\nL 28.515625 8.296875 \r\nL 28.515625 63.921875 \r\nL 10.984375 60.40625 \r\nL 10.984375 69.390625 \r\nL 28.421875 72.90625 \r\nL 38.28125 72.90625 \r\nL 38.28125 8.296875 \r\nL 54.390625 8.296875 \r\nL 54.390625 0 \r\nL 12.40625 0 \r\nz\r\n\" id=\"DejaVuSans-49\"/>\r\n      </defs>\r\n      <g transform=\"translate(912.11875 477.875312)scale(0.1 -0.1)\">\r\n       <use xlink:href=\"#DejaVuSans-49\"/>\r\n       <use x=\"63.623047\" xlink:href=\"#DejaVuSans-48\"/>\r\n       <use x=\"127.246094\" xlink:href=\"#DejaVuSans-48\"/>\r\n      </g>\r\n     </g>\r\n    </g>\r\n    <g id=\"text_7\">\r\n     <!-- $k_t$ -->\r\n     <defs>\r\n      <path d=\"M 18.3125 75.984375 \r\nL 27.296875 75.984375 \r\nL 18.703125 31.6875 \r\nL 49.515625 54.6875 \r\nL 61.1875 54.6875 \r\nL 26.8125 28.515625 \r\nL 51.90625 0 \r\nL 41.015625 0 \r\nL 17.671875 26.703125 \r\nL 12.5 0 \r\nL 3.515625 0 \r\nz\r\n\" id=\"DejaVuSans-Oblique-107\"/>\r\n      <path d=\"M 42.28125 54.6875 \r\nL 40.921875 47.703125 \r\nL 23 47.703125 \r\nL 17.1875 18.015625 \r\nQ 16.890625 16.359375 16.75 15.234375 \r\nQ 16.609375 14.109375 16.609375 13.484375 \r\nQ 16.609375 10.359375 18.484375 8.9375 \r\nQ 20.359375 7.515625 24.515625 7.515625 \r\nL 33.59375 7.515625 \r\nL 32.078125 0 \r\nL 23.484375 0 \r\nQ 15.484375 0 11.546875 3.125 \r\nQ 7.625 6.25 7.625 12.59375 \r\nQ 7.625 13.71875 7.765625 15.0625 \r\nQ 7.90625 16.40625 8.203125 18.015625 \r\nL 14.015625 47.703125 \r\nL 6.390625 47.703125 \r\nL 7.8125 54.6875 \r\nL 15.28125 54.6875 \r\nL 18.3125 70.21875 \r\nL 27.296875 70.21875 \r\nL 24.3125 54.6875 \r\nz\r\n\" id=\"DejaVuSans-Oblique-116\"/>\r\n     </defs>\r\n     <g transform=\"translate(470.8125 491.553437)scale(0.1 -0.1)\">\r\n      <use transform=\"translate(0 0.015625)\" xlink:href=\"#DejaVuSans-Oblique-107\"/>\r\n      <use transform=\"translate(57.910156 -16.390625)scale(0.7)\" xlink:href=\"#DejaVuSans-Oblique-116\"/>\r\n     </g>\r\n    </g>\r\n   </g>\r\n   <g id=\"matplotlib.axis_2\">\r\n    <g id=\"ytick_1\">\r\n     <g id=\"line2d_13\">\r\n      <path clip-path=\"url(#p2a62836dc6)\" d=\"M 28.8625 463.276875 \r\nL 921.6625 463.276875 \r\n\" style=\"fill:none;stroke:#b0b0b0;stroke-linecap:square;stroke-width:0.8;\"/>\r\n     </g>\r\n     <g id=\"line2d_14\">\r\n      <defs>\r\n       <path d=\"M 0 0 \r\nL -3.5 0 \r\n\" id=\"m8828b9f136\" style=\"stroke:#000000;stroke-width:0.8;\"/>\r\n      </defs>\r\n      <g>\r\n       <use style=\"stroke:#000000;stroke-width:0.8;\" x=\"28.8625\" xlink:href=\"#m8828b9f136\" y=\"463.276875\"/>\r\n      </g>\r\n     </g>\r\n     <g id=\"text_8\">\r\n      <!-- 0 -->\r\n      <g transform=\"translate(15.5 467.076094)scale(0.1 -0.1)\">\r\n       <use xlink:href=\"#DejaVuSans-48\"/>\r\n      </g>\r\n     </g>\r\n    </g>\r\n    <g id=\"ytick_2\">\r\n     <g id=\"line2d_15\">\r\n      <path clip-path=\"url(#p2a62836dc6)\" d=\"M 28.8625 390.796875 \r\nL 921.6625 390.796875 \r\n\" style=\"fill:none;stroke:#b0b0b0;stroke-linecap:square;stroke-width:0.8;\"/>\r\n     </g>\r\n     <g id=\"line2d_16\">\r\n      <g>\r\n       <use style=\"stroke:#000000;stroke-width:0.8;\" x=\"28.8625\" xlink:href=\"#m8828b9f136\" y=\"390.796875\"/>\r\n      </g>\r\n     </g>\r\n     <g id=\"text_9\">\r\n      <!-- 1 -->\r\n      <g transform=\"translate(15.5 394.596094)scale(0.1 -0.1)\">\r\n       <use xlink:href=\"#DejaVuSans-49\"/>\r\n      </g>\r\n     </g>\r\n    </g>\r\n    <g id=\"ytick_3\">\r\n     <g id=\"line2d_17\">\r\n      <path clip-path=\"url(#p2a62836dc6)\" d=\"M 28.8625 318.316875 \r\nL 921.6625 318.316875 \r\n\" style=\"fill:none;stroke:#b0b0b0;stroke-linecap:square;stroke-width:0.8;\"/>\r\n     </g>\r\n     <g id=\"line2d_18\">\r\n      <g>\r\n       <use style=\"stroke:#000000;stroke-width:0.8;\" x=\"28.8625\" xlink:href=\"#m8828b9f136\" y=\"318.316875\"/>\r\n      </g>\r\n     </g>\r\n     <g id=\"text_10\">\r\n      <!-- 2 -->\r\n      <g transform=\"translate(15.5 322.116094)scale(0.1 -0.1)\">\r\n       <use xlink:href=\"#DejaVuSans-50\"/>\r\n      </g>\r\n     </g>\r\n    </g>\r\n    <g id=\"ytick_4\">\r\n     <g id=\"line2d_19\">\r\n      <path clip-path=\"url(#p2a62836dc6)\" d=\"M 28.8625 245.836875 \r\nL 921.6625 245.836875 \r\n\" style=\"fill:none;stroke:#b0b0b0;stroke-linecap:square;stroke-width:0.8;\"/>\r\n     </g>\r\n     <g id=\"line2d_20\">\r\n      <g>\r\n       <use style=\"stroke:#000000;stroke-width:0.8;\" x=\"28.8625\" xlink:href=\"#m8828b9f136\" y=\"245.836875\"/>\r\n      </g>\r\n     </g>\r\n     <g id=\"text_11\">\r\n      <!-- 3 -->\r\n      <defs>\r\n       <path d=\"M 40.578125 39.3125 \r\nQ 47.65625 37.796875 51.625 33 \r\nQ 55.609375 28.21875 55.609375 21.1875 \r\nQ 55.609375 10.40625 48.1875 4.484375 \r\nQ 40.765625 -1.421875 27.09375 -1.421875 \r\nQ 22.515625 -1.421875 17.65625 -0.515625 \r\nQ 12.796875 0.390625 7.625 2.203125 \r\nL 7.625 11.71875 \r\nQ 11.71875 9.328125 16.59375 8.109375 \r\nQ 21.484375 6.890625 26.8125 6.890625 \r\nQ 36.078125 6.890625 40.9375 10.546875 \r\nQ 45.796875 14.203125 45.796875 21.1875 \r\nQ 45.796875 27.640625 41.28125 31.265625 \r\nQ 36.765625 34.90625 28.71875 34.90625 \r\nL 20.21875 34.90625 \r\nL 20.21875 43.015625 \r\nL 29.109375 43.015625 \r\nQ 36.375 43.015625 40.234375 45.921875 \r\nQ 44.09375 48.828125 44.09375 54.296875 \r\nQ 44.09375 59.90625 40.109375 62.90625 \r\nQ 36.140625 65.921875 28.71875 65.921875 \r\nQ 24.65625 65.921875 20.015625 65.03125 \r\nQ 15.375 64.15625 9.8125 62.3125 \r\nL 9.8125 71.09375 \r\nQ 15.4375 72.65625 20.34375 73.4375 \r\nQ 25.25 74.21875 29.59375 74.21875 \r\nQ 40.828125 74.21875 47.359375 69.109375 \r\nQ 53.90625 64.015625 53.90625 55.328125 \r\nQ 53.90625 49.265625 50.4375 45.09375 \r\nQ 46.96875 40.921875 40.578125 39.3125 \r\nz\r\n\" id=\"DejaVuSans-51\"/>\r\n      </defs>\r\n      <g transform=\"translate(15.5 249.636094)scale(0.1 -0.1)\">\r\n       <use xlink:href=\"#DejaVuSans-51\"/>\r\n      </g>\r\n     </g>\r\n    </g>\r\n    <g id=\"ytick_5\">\r\n     <g id=\"line2d_21\">\r\n      <path clip-path=\"url(#p2a62836dc6)\" d=\"M 28.8625 173.356875 \r\nL 921.6625 173.356875 \r\n\" style=\"fill:none;stroke:#b0b0b0;stroke-linecap:square;stroke-width:0.8;\"/>\r\n     </g>\r\n     <g id=\"line2d_22\">\r\n      <g>\r\n       <use style=\"stroke:#000000;stroke-width:0.8;\" x=\"28.8625\" xlink:href=\"#m8828b9f136\" y=\"173.356875\"/>\r\n      </g>\r\n     </g>\r\n     <g id=\"text_12\">\r\n      <!-- 4 -->\r\n      <g transform=\"translate(15.5 177.156094)scale(0.1 -0.1)\">\r\n       <use xlink:href=\"#DejaVuSans-52\"/>\r\n      </g>\r\n     </g>\r\n    </g>\r\n    <g id=\"ytick_6\">\r\n     <g id=\"line2d_23\">\r\n      <path clip-path=\"url(#p2a62836dc6)\" d=\"M 28.8625 100.876875 \r\nL 921.6625 100.876875 \r\n\" style=\"fill:none;stroke:#b0b0b0;stroke-linecap:square;stroke-width:0.8;\"/>\r\n     </g>\r\n     <g id=\"line2d_24\">\r\n      <g>\r\n       <use style=\"stroke:#000000;stroke-width:0.8;\" x=\"28.8625\" xlink:href=\"#m8828b9f136\" y=\"100.876875\"/>\r\n      </g>\r\n     </g>\r\n     <g id=\"text_13\">\r\n      <!-- 5 -->\r\n      <defs>\r\n       <path d=\"M 10.796875 72.90625 \r\nL 49.515625 72.90625 \r\nL 49.515625 64.59375 \r\nL 19.828125 64.59375 \r\nL 19.828125 46.734375 \r\nQ 21.96875 47.46875 24.109375 47.828125 \r\nQ 26.265625 48.1875 28.421875 48.1875 \r\nQ 40.625 48.1875 47.75 41.5 \r\nQ 54.890625 34.8125 54.890625 23.390625 \r\nQ 54.890625 11.625 47.5625 5.09375 \r\nQ 40.234375 -1.421875 26.90625 -1.421875 \r\nQ 22.3125 -1.421875 17.546875 -0.640625 \r\nQ 12.796875 0.140625 7.71875 1.703125 \r\nL 7.71875 11.625 \r\nQ 12.109375 9.234375 16.796875 8.0625 \r\nQ 21.484375 6.890625 26.703125 6.890625 \r\nQ 35.15625 6.890625 40.078125 11.328125 \r\nQ 45.015625 15.765625 45.015625 23.390625 \r\nQ 45.015625 31 40.078125 35.4375 \r\nQ 35.15625 39.890625 26.703125 39.890625 \r\nQ 22.75 39.890625 18.8125 39.015625 \r\nQ 14.890625 38.140625 10.796875 36.28125 \r\nz\r\n\" id=\"DejaVuSans-53\"/>\r\n      </defs>\r\n      <g transform=\"translate(15.5 104.676094)scale(0.1 -0.1)\">\r\n       <use xlink:href=\"#DejaVuSans-53\"/>\r\n      </g>\r\n     </g>\r\n    </g>\r\n    <g id=\"ytick_7\">\r\n     <g id=\"line2d_25\">\r\n      <path clip-path=\"url(#p2a62836dc6)\" d=\"M 28.8625 28.396875 \r\nL 921.6625 28.396875 \r\n\" style=\"fill:none;stroke:#b0b0b0;stroke-linecap:square;stroke-width:0.8;\"/>\r\n     </g>\r\n     <g id=\"line2d_26\">\r\n      <g>\r\n       <use style=\"stroke:#000000;stroke-width:0.8;\" x=\"28.8625\" xlink:href=\"#m8828b9f136\" y=\"28.396875\"/>\r\n      </g>\r\n     </g>\r\n     <g id=\"text_14\">\r\n      <!-- 6 -->\r\n      <g transform=\"translate(15.5 32.196094)scale(0.1 -0.1)\">\r\n       <use xlink:href=\"#DejaVuSans-54\"/>\r\n      </g>\r\n     </g>\r\n    </g>\r\n    <g id=\"text_15\">\r\n     <!-- $c_t$ -->\r\n     <defs>\r\n      <path d=\"M 53.609375 52.59375 \r\nL 51.8125 43.703125 \r\nQ 48.578125 46.046875 44.9375 47.21875 \r\nQ 41.3125 48.390625 37.40625 48.390625 \r\nQ 33.109375 48.390625 29.21875 46.875 \r\nQ 25.34375 45.359375 22.703125 42.578125 \r\nQ 18.5 38.328125 16.203125 32.609375 \r\nQ 13.921875 26.90625 13.921875 20.796875 \r\nQ 13.921875 13.421875 17.609375 9.8125 \r\nQ 21.296875 6.203125 28.8125 6.203125 \r\nQ 32.515625 6.203125 36.6875 7.328125 \r\nQ 40.875 8.453125 45.40625 10.6875 \r\nL 43.703125 1.8125 \r\nQ 39.796875 0.203125 35.671875 -0.609375 \r\nQ 31.546875 -1.421875 27.203125 -1.421875 \r\nQ 16.3125 -1.421875 10.453125 4.015625 \r\nQ 4.59375 9.46875 4.59375 19.578125 \r\nQ 4.59375 28.078125 7.640625 35.234375 \r\nQ 10.6875 42.390625 16.703125 48.09375 \r\nQ 20.796875 52 26.3125 54 \r\nQ 31.84375 56 38.375 56 \r\nQ 42.1875 56 45.9375 55.140625 \r\nQ 49.703125 54.296875 53.609375 52.59375 \r\nz\r\n\" id=\"DejaVuSans-Oblique-99\"/>\r\n     </defs>\r\n     <g transform=\"translate(7.2 243.757187)scale(0.1 -0.1)\">\r\n      <use xlink:href=\"#DejaVuSans-Oblique-99\"/>\r\n      <use transform=\"translate(54.980469 -16.40625)scale(0.7)\" xlink:href=\"#DejaVuSans-Oblique-116\"/>\r\n     </g>\r\n    </g>\r\n   </g>\r\n   <g id=\"line2d_27\">\r\n    <path clip-path=\"url(#p2a62836dc6)\" d=\"M 37.702104 463.276875 \r\nL 37.878914 424.07234 \r\nL 38.232533 406.959985 \r\nL 38.762963 392.643918 \r\nL 39.470202 379.950672 \r\nL 40.35425 368.407257 \r\nL 41.415109 357.759026 \r\nL 42.652777 347.847874 \r\nL 43.890446 339.636128 \r\nL 45.304924 331.653783 \r\nL 46.896211 323.943066 \r\nL 48.664309 316.5242 \r\nL 50.432407 310.014483 \r\nL 52.377314 303.664417 \r\nL 54.499031 297.501472 \r\nL 56.797558 291.543763 \r\nL 59.096085 286.192675 \r\nL 61.571422 280.988288 \r\nL 64.223568 275.947582 \r\nL 66.875714 271.37322 \r\nL 69.704671 266.930745 \r\nL 72.710436 262.634127 \r\nL 75.716202 258.714246 \r\nL 78.898778 254.920714 \r\nL 82.258164 251.264797 \r\nL 85.794359 247.755668 \r\nL 89.330554 244.553472 \r\nL 93.043559 241.48405 \r\nL 96.933374 238.555103 \r\nL 100.999998 235.773072 \r\nL 105.243432 233.143329 \r\nL 109.663676 230.670345 \r\nL 114.26073 228.357833 \r\nL 119.034594 226.208863 \r\nL 123.985267 224.225963 \r\nL 129.11275 222.411205 \r\nL 134.417043 220.766273 \r\nL 140.074955 219.248576 \r\nL 145.909677 217.916662 \r\nL 151.921209 216.770203 \r\nL 158.28636 215.784391 \r\nL 164.828322 214.994736 \r\nL 171.723902 214.386856 \r\nL 178.973102 213.975278 \r\nL 186.399112 213.775265 \r\nL 194.178742 213.786445 \r\nL 202.311991 214.01995 \r\nL 210.798859 214.485788 \r\nL 219.639347 215.192941 \r\nL 228.833455 216.149452 \r\nL 238.557992 217.386981 \r\nL 248.636148 218.895174 \r\nL 259.244733 220.711346 \r\nL 270.206939 222.815145 \r\nL 281.699573 225.249316 \r\nL 293.722637 228.026919 \r\nL 306.27613 231.159816 \r\nL 319.360052 234.658752 \r\nL 332.974403 238.533444 \r\nL 347.119184 242.792666 \r\nL 361.794394 247.44433 \r\nL 377.176844 252.555611 \r\nL 393.089722 258.077948 \r\nL 409.709839 264.081863 \r\nL 427.037196 270.579327 \r\nL 445.071791 277.581247 \r\nL 463.813626 285.097545 \r\nL 483.2627 293.137234 \r\nL 503.595822 301.7847 \r\nL 524.636184 310.97511 \r\nL 546.560594 320.795076 \r\nL 569.369053 331.255998 \r\nL 593.061561 342.36829 \r\nL 617.638117 354.141454 \r\nL 643.275533 366.671385 \r\nL 669.796997 379.881956 \r\nL 697.379319 393.870585 \r\nL 726.0225 408.648139 \r\nL 755.72654 424.224562 \r\nL 786.491438 440.608945 \r\nL 818.494005 457.905826 \r\nL 851.73424 476.12676 \r\nL 886.212143 495.282354 \r\nL 897.901758 501.833125 \r\nL 897.901758 501.833125 \r\n\" style=\"fill:none;stroke:#4169e1;stroke-linecap:square;stroke-width:1.5;\"/>\r\n   </g>\r\n   <g id=\"line2d_28\">\r\n    <path clip-path=\"url(#p2a62836dc6)\" d=\"M 127.941131 463.276875 \r\nL 127.941131 28.396875 \r\n\" style=\"fill:none;stroke:#000000;stroke-linecap:square;stroke-width:1.5;\"/>\r\n   </g>\r\n   <g id=\"line2d_29\">\r\n    <path clip-path=\"url(#p2a62836dc6)\" d=\"M 127.941131 222.805634 \r\n\" style=\"fill:none;stroke:#87ceeb;stroke-linecap:square;stroke-width:1.5;\"/>\r\n    <defs>\r\n     <path d=\"M 0 5 \r\nC 1.326016 5 2.597899 4.473168 3.535534 3.535534 \r\nC 4.473168 2.597899 5 1.326016 5 0 \r\nC 5 -1.326016 4.473168 -2.597899 3.535534 -3.535534 \r\nC 2.597899 -4.473168 1.326016 -5 0 -5 \r\nC -1.326016 -5 -2.597899 -4.473168 -3.535534 -3.535534 \r\nC -4.473168 -2.597899 -5 -1.326016 -5 0 \r\nC -5 1.326016 -4.473168 2.597899 -3.535534 3.535534 \r\nC -2.597899 4.473168 -1.326016 5 0 5 \r\nz\r\n\" id=\"ma54d31ee74\" style=\"stroke:#87ceeb;\"/>\r\n    </defs>\r\n    <g clip-path=\"url(#p2a62836dc6)\">\r\n     <use style=\"fill:#87ceeb;stroke:#87ceeb;\" x=\"127.941131\" xlink:href=\"#ma54d31ee74\" y=\"222.805634\"/>\r\n    </g>\r\n   </g>\r\n   <g id=\"patch_11\">\r\n    <path d=\"M 28.8625 463.276875 \r\nL 28.8625 28.396875 \r\n\" style=\"fill:none;stroke:#000000;stroke-linecap:square;stroke-linejoin:miter;stroke-width:0.8;\"/>\r\n   </g>\r\n   <g id=\"patch_12\">\r\n    <path d=\"M 921.6625 463.276875 \r\nL 921.6625 28.396875 \r\n\" style=\"fill:none;stroke:#000000;stroke-linecap:square;stroke-linejoin:miter;stroke-width:0.8;\"/>\r\n   </g>\r\n   <g id=\"patch_13\">\r\n    <path d=\"M 28.8625 463.276875 \r\nL 921.6625 463.276875 \r\n\" style=\"fill:none;stroke:#000000;stroke-linecap:square;stroke-linejoin:miter;stroke-width:0.8;\"/>\r\n   </g>\r\n   <g id=\"patch_14\">\r\n    <path d=\"M 28.8625 28.396875 \r\nL 921.6625 28.396875 \r\n\" style=\"fill:none;stroke:#000000;stroke-linecap:square;stroke-linejoin:miter;stroke-width:0.8;\"/>\r\n   </g>\r\n   <g id=\"text_16\">\r\n    <!-- Phase Diagram for the Ramsey Model -->\r\n    <defs>\r\n     <path d=\"M 19.671875 64.796875 \r\nL 19.671875 37.40625 \r\nL 32.078125 37.40625 \r\nQ 38.96875 37.40625 42.71875 40.96875 \r\nQ 46.484375 44.53125 46.484375 51.125 \r\nQ 46.484375 57.671875 42.71875 61.234375 \r\nQ 38.96875 64.796875 32.078125 64.796875 \r\nz\r\nM 9.8125 72.90625 \r\nL 32.078125 72.90625 \r\nQ 44.34375 72.90625 50.609375 67.359375 \r\nQ 56.890625 61.8125 56.890625 51.125 \r\nQ 56.890625 40.328125 50.609375 34.8125 \r\nQ 44.34375 29.296875 32.078125 29.296875 \r\nL 19.671875 29.296875 \r\nL 19.671875 0 \r\nL 9.8125 0 \r\nz\r\n\" id=\"DejaVuSans-80\"/>\r\n     <path d=\"M 54.890625 33.015625 \r\nL 54.890625 0 \r\nL 45.90625 0 \r\nL 45.90625 32.71875 \r\nQ 45.90625 40.484375 42.875 44.328125 \r\nQ 39.84375 48.1875 33.796875 48.1875 \r\nQ 26.515625 48.1875 22.3125 43.546875 \r\nQ 18.109375 38.921875 18.109375 30.90625 \r\nL 18.109375 0 \r\nL 9.078125 0 \r\nL 9.078125 75.984375 \r\nL 18.109375 75.984375 \r\nL 18.109375 46.1875 \r\nQ 21.34375 51.125 25.703125 53.5625 \r\nQ 30.078125 56 35.796875 56 \r\nQ 45.21875 56 50.046875 50.171875 \r\nQ 54.890625 44.34375 54.890625 33.015625 \r\nz\r\n\" id=\"DejaVuSans-104\"/>\r\n     <path d=\"M 34.28125 27.484375 \r\nQ 23.390625 27.484375 19.1875 25 \r\nQ 14.984375 22.515625 14.984375 16.5 \r\nQ 14.984375 11.71875 18.140625 8.90625 \r\nQ 21.296875 6.109375 26.703125 6.109375 \r\nQ 34.1875 6.109375 38.703125 11.40625 \r\nQ 43.21875 16.703125 43.21875 25.484375 \r\nL 43.21875 27.484375 \r\nz\r\nM 52.203125 31.203125 \r\nL 52.203125 0 \r\nL 43.21875 0 \r\nL 43.21875 8.296875 \r\nQ 40.140625 3.328125 35.546875 0.953125 \r\nQ 30.953125 -1.421875 24.3125 -1.421875 \r\nQ 15.921875 -1.421875 10.953125 3.296875 \r\nQ 6 8.015625 6 15.921875 \r\nQ 6 25.140625 12.171875 29.828125 \r\nQ 18.359375 34.515625 30.609375 34.515625 \r\nL 43.21875 34.515625 \r\nL 43.21875 35.40625 \r\nQ 43.21875 41.609375 39.140625 45 \r\nQ 35.0625 48.390625 27.6875 48.390625 \r\nQ 23 48.390625 18.546875 47.265625 \r\nQ 14.109375 46.140625 10.015625 43.890625 \r\nL 10.015625 52.203125 \r\nQ 14.9375 54.109375 19.578125 55.046875 \r\nQ 24.21875 56 28.609375 56 \r\nQ 40.484375 56 46.34375 49.84375 \r\nQ 52.203125 43.703125 52.203125 31.203125 \r\nz\r\n\" id=\"DejaVuSans-97\"/>\r\n     <path d=\"M 44.28125 53.078125 \r\nL 44.28125 44.578125 \r\nQ 40.484375 46.53125 36.375 47.5 \r\nQ 32.28125 48.484375 27.875 48.484375 \r\nQ 21.1875 48.484375 17.84375 46.4375 \r\nQ 14.5 44.390625 14.5 40.28125 \r\nQ 14.5 37.15625 16.890625 35.375 \r\nQ 19.28125 33.59375 26.515625 31.984375 \r\nL 29.59375 31.296875 \r\nQ 39.15625 29.25 43.1875 25.515625 \r\nQ 47.21875 21.78125 47.21875 15.09375 \r\nQ 47.21875 7.46875 41.1875 3.015625 \r\nQ 35.15625 -1.421875 24.609375 -1.421875 \r\nQ 20.21875 -1.421875 15.453125 -0.5625 \r\nQ 10.6875 0.296875 5.421875 2 \r\nL 5.421875 11.28125 \r\nQ 10.40625 8.6875 15.234375 7.390625 \r\nQ 20.0625 6.109375 24.8125 6.109375 \r\nQ 31.15625 6.109375 34.5625 8.28125 \r\nQ 37.984375 10.453125 37.984375 14.40625 \r\nQ 37.984375 18.0625 35.515625 20.015625 \r\nQ 33.0625 21.96875 24.703125 23.78125 \r\nL 21.578125 24.515625 \r\nQ 13.234375 26.265625 9.515625 29.90625 \r\nQ 5.8125 33.546875 5.8125 39.890625 \r\nQ 5.8125 47.609375 11.28125 51.796875 \r\nQ 16.75 56 26.8125 56 \r\nQ 31.78125 56 36.171875 55.265625 \r\nQ 40.578125 54.546875 44.28125 53.078125 \r\nz\r\n\" id=\"DejaVuSans-115\"/>\r\n     <path d=\"M 56.203125 29.59375 \r\nL 56.203125 25.203125 \r\nL 14.890625 25.203125 \r\nQ 15.484375 15.921875 20.484375 11.0625 \r\nQ 25.484375 6.203125 34.421875 6.203125 \r\nQ 39.59375 6.203125 44.453125 7.46875 \r\nQ 49.3125 8.734375 54.109375 11.28125 \r\nL 54.109375 2.78125 \r\nQ 49.265625 0.734375 44.1875 -0.34375 \r\nQ 39.109375 -1.421875 33.890625 -1.421875 \r\nQ 20.796875 -1.421875 13.15625 6.1875 \r\nQ 5.515625 13.8125 5.515625 26.8125 \r\nQ 5.515625 40.234375 12.765625 48.109375 \r\nQ 20.015625 56 32.328125 56 \r\nQ 43.359375 56 49.78125 48.890625 \r\nQ 56.203125 41.796875 56.203125 29.59375 \r\nz\r\nM 47.21875 32.234375 \r\nQ 47.125 39.59375 43.09375 43.984375 \r\nQ 39.0625 48.390625 32.421875 48.390625 \r\nQ 24.90625 48.390625 20.390625 44.140625 \r\nQ 15.875 39.890625 15.1875 32.171875 \r\nz\r\n\" id=\"DejaVuSans-101\"/>\r\n     <path id=\"DejaVuSans-32\"/>\r\n     <path d=\"M 19.671875 64.796875 \r\nL 19.671875 8.109375 \r\nL 31.59375 8.109375 \r\nQ 46.6875 8.109375 53.6875 14.9375 \r\nQ 60.6875 21.78125 60.6875 36.53125 \r\nQ 60.6875 51.171875 53.6875 57.984375 \r\nQ 46.6875 64.796875 31.59375 64.796875 \r\nz\r\nM 9.8125 72.90625 \r\nL 30.078125 72.90625 \r\nQ 51.265625 72.90625 61.171875 64.09375 \r\nQ 71.09375 55.28125 71.09375 36.53125 \r\nQ 71.09375 17.671875 61.125 8.828125 \r\nQ 51.171875 0 30.078125 0 \r\nL 9.8125 0 \r\nz\r\n\" id=\"DejaVuSans-68\"/>\r\n     <path d=\"M 9.421875 54.6875 \r\nL 18.40625 54.6875 \r\nL 18.40625 0 \r\nL 9.421875 0 \r\nz\r\nM 9.421875 75.984375 \r\nL 18.40625 75.984375 \r\nL 18.40625 64.59375 \r\nL 9.421875 64.59375 \r\nz\r\n\" id=\"DejaVuSans-105\"/>\r\n     <path d=\"M 45.40625 27.984375 \r\nQ 45.40625 37.75 41.375 43.109375 \r\nQ 37.359375 48.484375 30.078125 48.484375 \r\nQ 22.859375 48.484375 18.828125 43.109375 \r\nQ 14.796875 37.75 14.796875 27.984375 \r\nQ 14.796875 18.265625 18.828125 12.890625 \r\nQ 22.859375 7.515625 30.078125 7.515625 \r\nQ 37.359375 7.515625 41.375 12.890625 \r\nQ 45.40625 18.265625 45.40625 27.984375 \r\nz\r\nM 54.390625 6.78125 \r\nQ 54.390625 -7.171875 48.1875 -13.984375 \r\nQ 42 -20.796875 29.203125 -20.796875 \r\nQ 24.46875 -20.796875 20.265625 -20.09375 \r\nQ 16.0625 -19.390625 12.109375 -17.921875 \r\nL 12.109375 -9.1875 \r\nQ 16.0625 -11.328125 19.921875 -12.34375 \r\nQ 23.78125 -13.375 27.78125 -13.375 \r\nQ 36.625 -13.375 41.015625 -8.765625 \r\nQ 45.40625 -4.15625 45.40625 5.171875 \r\nL 45.40625 9.625 \r\nQ 42.625 4.78125 38.28125 2.390625 \r\nQ 33.9375 0 27.875 0 \r\nQ 17.828125 0 11.671875 7.65625 \r\nQ 5.515625 15.328125 5.515625 27.984375 \r\nQ 5.515625 40.671875 11.671875 48.328125 \r\nQ 17.828125 56 27.875 56 \r\nQ 33.9375 56 38.28125 53.609375 \r\nQ 42.625 51.21875 45.40625 46.390625 \r\nL 45.40625 54.6875 \r\nL 54.390625 54.6875 \r\nz\r\n\" id=\"DejaVuSans-103\"/>\r\n     <path d=\"M 41.109375 46.296875 \r\nQ 39.59375 47.171875 37.8125 47.578125 \r\nQ 36.03125 48 33.890625 48 \r\nQ 26.265625 48 22.1875 43.046875 \r\nQ 18.109375 38.09375 18.109375 28.8125 \r\nL 18.109375 0 \r\nL 9.078125 0 \r\nL 9.078125 54.6875 \r\nL 18.109375 54.6875 \r\nL 18.109375 46.1875 \r\nQ 20.953125 51.171875 25.484375 53.578125 \r\nQ 30.03125 56 36.53125 56 \r\nQ 37.453125 56 38.578125 55.875 \r\nQ 39.703125 55.765625 41.0625 55.515625 \r\nz\r\n\" id=\"DejaVuSans-114\"/>\r\n     <path d=\"M 52 44.1875 \r\nQ 55.375 50.25 60.0625 53.125 \r\nQ 64.75 56 71.09375 56 \r\nQ 79.640625 56 84.28125 50.015625 \r\nQ 88.921875 44.046875 88.921875 33.015625 \r\nL 88.921875 0 \r\nL 79.890625 0 \r\nL 79.890625 32.71875 \r\nQ 79.890625 40.578125 77.09375 44.375 \r\nQ 74.3125 48.1875 68.609375 48.1875 \r\nQ 61.625 48.1875 57.5625 43.546875 \r\nQ 53.515625 38.921875 53.515625 30.90625 \r\nL 53.515625 0 \r\nL 44.484375 0 \r\nL 44.484375 32.71875 \r\nQ 44.484375 40.625 41.703125 44.40625 \r\nQ 38.921875 48.1875 33.109375 48.1875 \r\nQ 26.21875 48.1875 22.15625 43.53125 \r\nQ 18.109375 38.875 18.109375 30.90625 \r\nL 18.109375 0 \r\nL 9.078125 0 \r\nL 9.078125 54.6875 \r\nL 18.109375 54.6875 \r\nL 18.109375 46.1875 \r\nQ 21.1875 51.21875 25.484375 53.609375 \r\nQ 29.78125 56 35.6875 56 \r\nQ 41.65625 56 45.828125 52.96875 \r\nQ 50 49.953125 52 44.1875 \r\nz\r\n\" id=\"DejaVuSans-109\"/>\r\n     <path d=\"M 37.109375 75.984375 \r\nL 37.109375 68.5 \r\nL 28.515625 68.5 \r\nQ 23.6875 68.5 21.796875 66.546875 \r\nQ 19.921875 64.59375 19.921875 59.515625 \r\nL 19.921875 54.6875 \r\nL 34.71875 54.6875 \r\nL 34.71875 47.703125 \r\nL 19.921875 47.703125 \r\nL 19.921875 0 \r\nL 10.890625 0 \r\nL 10.890625 47.703125 \r\nL 2.296875 47.703125 \r\nL 2.296875 54.6875 \r\nL 10.890625 54.6875 \r\nL 10.890625 58.5 \r\nQ 10.890625 67.625 15.140625 71.796875 \r\nQ 19.390625 75.984375 28.609375 75.984375 \r\nz\r\n\" id=\"DejaVuSans-102\"/>\r\n     <path d=\"M 30.609375 48.390625 \r\nQ 23.390625 48.390625 19.1875 42.75 \r\nQ 14.984375 37.109375 14.984375 27.296875 \r\nQ 14.984375 17.484375 19.15625 11.84375 \r\nQ 23.34375 6.203125 30.609375 6.203125 \r\nQ 37.796875 6.203125 41.984375 11.859375 \r\nQ 46.1875 17.53125 46.1875 27.296875 \r\nQ 46.1875 37.015625 41.984375 42.703125 \r\nQ 37.796875 48.390625 30.609375 48.390625 \r\nz\r\nM 30.609375 56 \r\nQ 42.328125 56 49.015625 48.375 \r\nQ 55.71875 40.765625 55.71875 27.296875 \r\nQ 55.71875 13.875 49.015625 6.21875 \r\nQ 42.328125 -1.421875 30.609375 -1.421875 \r\nQ 18.84375 -1.421875 12.171875 6.21875 \r\nQ 5.515625 13.875 5.515625 27.296875 \r\nQ 5.515625 40.765625 12.171875 48.375 \r\nQ 18.84375 56 30.609375 56 \r\nz\r\n\" id=\"DejaVuSans-111\"/>\r\n     <path d=\"M 18.3125 70.21875 \r\nL 18.3125 54.6875 \r\nL 36.8125 54.6875 \r\nL 36.8125 47.703125 \r\nL 18.3125 47.703125 \r\nL 18.3125 18.015625 \r\nQ 18.3125 11.328125 20.140625 9.421875 \r\nQ 21.96875 7.515625 27.59375 7.515625 \r\nL 36.8125 7.515625 \r\nL 36.8125 0 \r\nL 27.59375 0 \r\nQ 17.1875 0 13.234375 3.875 \r\nQ 9.28125 7.765625 9.28125 18.015625 \r\nL 9.28125 47.703125 \r\nL 2.6875 47.703125 \r\nL 2.6875 54.6875 \r\nL 9.28125 54.6875 \r\nL 9.28125 70.21875 \r\nz\r\n\" id=\"DejaVuSans-116\"/>\r\n     <path d=\"M 44.390625 34.1875 \r\nQ 47.5625 33.109375 50.5625 29.59375 \r\nQ 53.5625 26.078125 56.59375 19.921875 \r\nL 66.609375 0 \r\nL 56 0 \r\nL 46.6875 18.703125 \r\nQ 43.0625 26.03125 39.671875 28.421875 \r\nQ 36.28125 30.8125 30.421875 30.8125 \r\nL 19.671875 30.8125 \r\nL 19.671875 0 \r\nL 9.8125 0 \r\nL 9.8125 72.90625 \r\nL 32.078125 72.90625 \r\nQ 44.578125 72.90625 50.734375 67.671875 \r\nQ 56.890625 62.453125 56.890625 51.90625 \r\nQ 56.890625 45.015625 53.6875 40.46875 \r\nQ 50.484375 35.9375 44.390625 34.1875 \r\nz\r\nM 19.671875 64.796875 \r\nL 19.671875 38.921875 \r\nL 32.078125 38.921875 \r\nQ 39.203125 38.921875 42.84375 42.21875 \r\nQ 46.484375 45.515625 46.484375 51.90625 \r\nQ 46.484375 58.296875 42.84375 61.546875 \r\nQ 39.203125 64.796875 32.078125 64.796875 \r\nz\r\n\" id=\"DejaVuSans-82\"/>\r\n     <path d=\"M 32.171875 -5.078125 \r\nQ 28.375 -14.84375 24.75 -17.8125 \r\nQ 21.140625 -20.796875 15.09375 -20.796875 \r\nL 7.90625 -20.796875 \r\nL 7.90625 -13.28125 \r\nL 13.1875 -13.28125 \r\nQ 16.890625 -13.28125 18.9375 -11.515625 \r\nQ 21 -9.765625 23.484375 -3.21875 \r\nL 25.09375 0.875 \r\nL 2.984375 54.6875 \r\nL 12.5 54.6875 \r\nL 29.59375 11.921875 \r\nL 46.6875 54.6875 \r\nL 56.203125 54.6875 \r\nz\r\n\" id=\"DejaVuSans-121\"/>\r\n     <path d=\"M 9.8125 72.90625 \r\nL 24.515625 72.90625 \r\nL 43.109375 23.296875 \r\nL 61.8125 72.90625 \r\nL 76.515625 72.90625 \r\nL 76.515625 0 \r\nL 66.890625 0 \r\nL 66.890625 64.015625 \r\nL 48.09375 14.015625 \r\nL 38.1875 14.015625 \r\nL 19.390625 64.015625 \r\nL 19.390625 0 \r\nL 9.8125 0 \r\nz\r\n\" id=\"DejaVuSans-77\"/>\r\n     <path d=\"M 45.40625 46.390625 \r\nL 45.40625 75.984375 \r\nL 54.390625 75.984375 \r\nL 54.390625 0 \r\nL 45.40625 0 \r\nL 45.40625 8.203125 \r\nQ 42.578125 3.328125 38.25 0.953125 \r\nQ 33.9375 -1.421875 27.875 -1.421875 \r\nQ 17.96875 -1.421875 11.734375 6.484375 \r\nQ 5.515625 14.40625 5.515625 27.296875 \r\nQ 5.515625 40.1875 11.734375 48.09375 \r\nQ 17.96875 56 27.875 56 \r\nQ 33.9375 56 38.25 53.625 \r\nQ 42.578125 51.265625 45.40625 46.390625 \r\nz\r\nM 14.796875 27.296875 \r\nQ 14.796875 17.390625 18.875 11.75 \r\nQ 22.953125 6.109375 30.078125 6.109375 \r\nQ 37.203125 6.109375 41.296875 11.75 \r\nQ 45.40625 17.390625 45.40625 27.296875 \r\nQ 45.40625 37.203125 41.296875 42.84375 \r\nQ 37.203125 48.484375 30.078125 48.484375 \r\nQ 22.953125 48.484375 18.875 42.84375 \r\nQ 14.796875 37.203125 14.796875 27.296875 \r\nz\r\n\" id=\"DejaVuSans-100\"/>\r\n     <path d=\"M 9.421875 75.984375 \r\nL 18.40625 75.984375 \r\nL 18.40625 0 \r\nL 9.421875 0 \r\nz\r\n\" id=\"DejaVuSans-108\"/>\r\n    </defs>\r\n    <g transform=\"translate(286.296875 22.396875)scale(0.2 -0.2)\">\r\n     <use xlink:href=\"#DejaVuSans-80\"/>\r\n     <use x=\"60.302734\" xlink:href=\"#DejaVuSans-104\"/>\r\n     <use x=\"123.681641\" xlink:href=\"#DejaVuSans-97\"/>\r\n     <use x=\"184.960938\" xlink:href=\"#DejaVuSans-115\"/>\r\n     <use x=\"237.060547\" xlink:href=\"#DejaVuSans-101\"/>\r\n     <use x=\"298.583984\" xlink:href=\"#DejaVuSans-32\"/>\r\n     <use x=\"330.371094\" xlink:href=\"#DejaVuSans-68\"/>\r\n     <use x=\"407.373047\" xlink:href=\"#DejaVuSans-105\"/>\r\n     <use x=\"435.15625\" xlink:href=\"#DejaVuSans-97\"/>\r\n     <use x=\"496.435547\" xlink:href=\"#DejaVuSans-103\"/>\r\n     <use x=\"559.912109\" xlink:href=\"#DejaVuSans-114\"/>\r\n     <use x=\"601.025391\" xlink:href=\"#DejaVuSans-97\"/>\r\n     <use x=\"662.304688\" xlink:href=\"#DejaVuSans-109\"/>\r\n     <use x=\"759.716797\" xlink:href=\"#DejaVuSans-32\"/>\r\n     <use x=\"791.503906\" xlink:href=\"#DejaVuSans-102\"/>\r\n     <use x=\"826.708984\" xlink:href=\"#DejaVuSans-111\"/>\r\n     <use x=\"887.890625\" xlink:href=\"#DejaVuSans-114\"/>\r\n     <use x=\"929.003906\" xlink:href=\"#DejaVuSans-32\"/>\r\n     <use x=\"960.791016\" xlink:href=\"#DejaVuSans-116\"/>\r\n     <use x=\"1000\" xlink:href=\"#DejaVuSans-104\"/>\r\n     <use x=\"1063.378906\" xlink:href=\"#DejaVuSans-101\"/>\r\n     <use x=\"1124.902344\" xlink:href=\"#DejaVuSans-32\"/>\r\n     <use x=\"1156.689453\" xlink:href=\"#DejaVuSans-82\"/>\r\n     <use x=\"1226.140625\" xlink:href=\"#DejaVuSans-97\"/>\r\n     <use x=\"1287.419922\" xlink:href=\"#DejaVuSans-109\"/>\r\n     <use x=\"1384.832031\" xlink:href=\"#DejaVuSans-115\"/>\r\n     <use x=\"1436.931641\" xlink:href=\"#DejaVuSans-101\"/>\r\n     <use x=\"1498.455078\" xlink:href=\"#DejaVuSans-121\"/>\r\n     <use x=\"1557.634766\" xlink:href=\"#DejaVuSans-32\"/>\r\n     <use x=\"1589.421875\" xlink:href=\"#DejaVuSans-77\"/>\r\n     <use x=\"1675.701172\" xlink:href=\"#DejaVuSans-111\"/>\r\n     <use x=\"1736.882812\" xlink:href=\"#DejaVuSans-100\"/>\r\n     <use x=\"1800.359375\" xlink:href=\"#DejaVuSans-101\"/>\r\n     <use x=\"1861.882812\" xlink:href=\"#DejaVuSans-108\"/>\r\n    </g>\r\n   </g>\r\n   <g id=\"legend_1\">\r\n    <g id=\"line2d_30\">\r\n     <path d=\"M 841.6625 41.495312 \r\nL 861.6625 41.495312 \r\n\" style=\"fill:none;stroke:#4169e1;stroke-linecap:square;stroke-width:1.5;\"/>\r\n    </g>\r\n    <g id=\"line2d_31\"/>\r\n    <g id=\"text_17\">\r\n     <!-- $k_{t+1}=k_t$ -->\r\n     <defs>\r\n      <path d=\"M 46 62.703125 \r\nL 46 35.5 \r\nL 73.1875 35.5 \r\nL 73.1875 27.203125 \r\nL 46 27.203125 \r\nL 46 0 \r\nL 37.796875 0 \r\nL 37.796875 27.203125 \r\nL 10.59375 27.203125 \r\nL 10.59375 35.5 \r\nL 37.796875 35.5 \r\nL 37.796875 62.703125 \r\nz\r\n\" id=\"DejaVuSans-43\"/>\r\n      <path d=\"M 10.59375 45.40625 \r\nL 73.1875 45.40625 \r\nL 73.1875 37.203125 \r\nL 10.59375 37.203125 \r\nz\r\nM 10.59375 25.484375 \r\nL 73.1875 25.484375 \r\nL 73.1875 17.1875 \r\nL 10.59375 17.1875 \r\nz\r\n\" id=\"DejaVuSans-61\"/>\r\n     </defs>\r\n     <g transform=\"translate(869.6625 44.995312)scale(0.1 -0.1)\">\r\n      <use transform=\"translate(0 0.015625)\" xlink:href=\"#DejaVuSans-Oblique-107\"/>\r\n      <use transform=\"translate(57.910156 -16.390625)scale(0.7)\" xlink:href=\"#DejaVuSans-Oblique-116\"/>\r\n      <use transform=\"translate(98.994141 -16.390625)scale(0.7)\" xlink:href=\"#DejaVuSans-43\"/>\r\n      <use transform=\"translate(171.28418 -16.390625)scale(0.7)\" xlink:href=\"#DejaVuSans-49\"/>\r\n      <use transform=\"translate(238.037109 0.015625)\" xlink:href=\"#DejaVuSans-61\"/>\r\n      <use transform=\"translate(341.308594 0.015625)\" xlink:href=\"#DejaVuSans-Oblique-107\"/>\r\n      <use transform=\"translate(399.21875 -16.390625)scale(0.7)\" xlink:href=\"#DejaVuSans-Oblique-116\"/>\r\n     </g>\r\n    </g>\r\n    <g id=\"line2d_32\">\r\n     <path d=\"M 841.6625 56.173437 \r\nL 861.6625 56.173437 \r\n\" style=\"fill:none;stroke:#000000;stroke-linecap:square;stroke-width:1.5;\"/>\r\n    </g>\r\n    <g id=\"line2d_33\"/>\r\n    <g id=\"text_18\">\r\n     <!-- $c_{t+1}=c_t$ -->\r\n     <g transform=\"translate(869.6625 59.673437)scale(0.1 -0.1)\">\r\n      <use xlink:href=\"#DejaVuSans-Oblique-99\"/>\r\n      <use transform=\"translate(54.980469 -16.40625)scale(0.7)\" xlink:href=\"#DejaVuSans-Oblique-116\"/>\r\n      <use transform=\"translate(96.064453 -16.40625)scale(0.7)\" xlink:href=\"#DejaVuSans-43\"/>\r\n      <use transform=\"translate(168.354492 -16.40625)scale(0.7)\" xlink:href=\"#DejaVuSans-49\"/>\r\n      <use transform=\"translate(235.107422 0)\" xlink:href=\"#DejaVuSans-61\"/>\r\n      <use transform=\"translate(338.378906 0)\" xlink:href=\"#DejaVuSans-Oblique-99\"/>\r\n      <use transform=\"translate(393.359375 -16.40625)scale(0.7)\" xlink:href=\"#DejaVuSans-Oblique-116\"/>\r\n     </g>\r\n    </g>\r\n   </g>\r\n  </g>\r\n </g>\r\n <defs>\r\n  <clipPath id=\"p2a62836dc6\">\r\n   <rect height=\"434.88\" width=\"892.8\" x=\"28.8625\" y=\"28.396875\"/>\r\n  </clipPath>\r\n </defs>\r\n</svg>\r\n",
      "image/png": "[encoded data removed]"
     },
     "metadata": {
      "needs_background": "light"
     }
    }
   ],
   "source": [
    "# Create a grid of points for plotting\n",
    "gridmax, gridsize = 200, 10000\n",
    "grid = np.linspace(0, gridmax, gridsize)\n",
    "\n",
    "# Create a new figure\n",
    "plt.figure(figsize=(16,8))\n",
    "\n",
    "# Add the c and k locii\n",
    "plt.plot(grid, locusK(grid), '-', color='royalblue', label=r'$k_{t+1}=k_t$')\n",
    "plt.axvline(k_ss(), color='black', label=r'$c_{t+1}=c_t$')\n",
    "plt.plot(k_ss(), c_ss(), marker='.', markersize=20, color='skyblue')\n",
    "\n",
    "# Add arrows to indicate out of steady-state dynamics\n",
    "x_len = 0.025 * gridmax \n",
    "y_len = 1 / x_len   \n",
    "\n",
    "plt.arrow(x=0.5 * k_ss(), y=0.5 * c_ss(), dx=0, dy=y_len, color='slategray')\n",
    "plt.arrow(x=0.5 * k_ss(), y=0.5 * c_ss(), dx=x_len, dy=0, color='slategray')\n",
    "\n",
    "plt.arrow(x=0.5 * k_ss() + x_len, y=1.5 * c_ss(), dx=0, dy=y_len, color='slategray')\n",
    "plt.arrow(x=0.5 * k_ss() + x_len, y=1.5 * c_ss(), dx=-x_len, dy=0, color='slategray')\n",
    "\n",
    "plt.arrow(x=1.5 * k_ss(), y=0.5 * c_ss() + y_len, dx=0, dy=-y_len, color='slategray')\n",
    "plt.arrow(x=1.5 * k_ss(), y=0.5 * c_ss() + y_len, dx=x_len, dy=0, color='slategray')\n",
    "\n",
    "plt.arrow(x=1.5 * k_ss() + x_len, y=1.5 * c_ss() + y_len, dx=0, dy=-y_len, color='slategray')\n",
    "plt.arrow(x=1.5 * k_ss() + x_len, y=1.5 * c_ss() + y_len, dx=-x_len, dy=0, color='slategray')\n",
    "\n",
    "# Label axis\n",
    "plt.xlabel('$k_t$')\n",
    "plt.ylabel('$c_t$', rotation='horizontal')\n",
    "\n",
    "# Add a title to the plot\n",
    "plt.title('Phase Diagram for the Ramsey Model', size=20)\n",
    "\n",
    "# Add the legend\n",
    "plt.legend(frameon=False)\n",
    "plt.grid(True)\n",
    "\n",
    "# Change range of axis\n",
    "plt.ylim((0, 6)) \n",
    "plt.xlim((-1, 100)) \n",
    "\n",
    "\n",
    "plt.savefig('Ramsey-Phase-Diagram.png')"
   ]
  },
  {
   "cell_type": "markdown",
   "metadata": {},
   "source": [
    "Futhermore, we construct an interative plot, where it is possible to change different values of discount factor $\\beta$."
   ]
  },
  {
   "cell_type": "markdown",
   "metadata": {},
   "source": [
    "Define functions of steady state once again, however this time with input *beta*."
   ]
  },
  {
   "cell_type": "code",
   "execution_count": 16,
   "metadata": {},
   "outputs": [],
   "source": [
    "def k_star(beta): \n",
    "    \n",
    "    return ((beta*delta-beta+1)/(A*alpha*beta))**(1/(alpha-1))\n",
    "    \n",
    "def c_star(beta): \n",
    "    \n",
    "    return A*k_star(beta)**alpha-delta*k_star(beta)"
   ]
  },
  {
   "cell_type": "markdown",
   "metadata": {},
   "source": [
    "We define function *interactive_figure*:"
   ]
  },
  {
   "cell_type": "code",
   "execution_count": 17,
   "metadata": {},
   "outputs": [],
   "source": [
    "def interactive_figure(betas):\n",
    "    \n",
    "    # Create a grid of points for plotting\n",
    "    gridmax, gridsize = 200, 10000\n",
    "    grid = np.linspace(0, gridmax, gridsize)\n",
    "\n",
    "    # Create a new figure\n",
    "    plt.figure(figsize=(16,8))\n",
    "\n",
    "    # Add the c and k locii\n",
    "    plt.plot(grid, locusK(grid), '-', color='royalblue', label=r'$k_{t+1}=k_t$')\n",
    "    plt.axvline(k_star(betas), color='black', label=r'$c_{t+1}=c_t$')\n",
    "    plt.plot(k_star(betas), c_star(betas), marker='.', markersize=20, color='skyblue')\n",
    "\n",
    "    # Label axis\n",
    "    plt.xlabel('$k_t$')\n",
    "    plt.ylabel('$c_t$', rotation='horizontal')\n",
    "\n",
    "    # Add a title to the plot\n",
    "    plt.title('Phase Diagram for the Ramsey Model', size=20)\n",
    "\n",
    "    # Add the legend\n",
    "    plt.legend(frameon=False)\n",
    "    plt.grid(True)\n",
    "\n",
    "    # Change range of axis\n",
    "    plt.ylim((0, 6)) \n",
    "    plt.xlim((-1, 100)) \n"
   ]
  },
  {
   "cell_type": "markdown",
   "metadata": {},
   "source": [
    "And we can construct an interactive plot of phase diagram for the Ramsey model with *beta slider*. "
   ]
  },
  {
   "cell_type": "code",
   "execution_count": 18,
   "metadata": {},
   "outputs": [
    {
     "output_type": "display_data",
     "data": {
      "text/plain": "interactive(children=(FloatSlider(value=0.96, description='beta', max=0.99, min=0.01, step=0.01), Output()), _…",
      "application/vnd.jupyter.widget-view+json": {
       "version_major": 2,
       "version_minor": 0,
       "model_id": "90fb2949b085499e8c47e6446c4847aa"
      }
     },
     "metadata": {}
    }
   ],
   "source": [
    "widgets.interact(interactive_figure,\n",
    "    betas=widgets.FloatSlider(description='beta', min=0.01, max=0.99, step=0.01, value=0.96),\n",
    ");"
   ]
  },
  {
   "cell_type": "markdown",
   "metadata": {},
   "source": [
    "## Conclusion"
   ]
  },
  {
   "cell_type": "markdown",
   "metadata": {},
   "source": [
    "In this project, we focused on Ramsey model. We found both analytical and numerical solutions for steady state that are given by"
   ]
  },
  {
   "cell_type": "code",
   "execution_count": 19,
   "metadata": {},
   "outputs": [
    {
     "output_type": "stream",
     "name": "stdout",
     "text": "Analytical solution for steady state:\n"
    },
    {
     "output_type": "display_data",
     "data": {
      "text/plain": "Eq(k_{ss}, ((beta*(delta - 1) + 1)/(A*alpha*beta))**(1/(alpha - 1)))",
      "text/latex": "$\\displaystyle k_{ss} = \\left(\\frac{\\beta \\left(\\delta - 1\\right) + 1}{A \\alpha \\beta}\\right)^{\\frac{1}{\\alpha - 1}}$"
     },
     "metadata": {}
    },
    {
     "output_type": "display_data",
     "data": {
      "text/plain": "Eq(c_{ss}, A*k_t**alpha - delta*k_t)",
      "text/latex": "$\\displaystyle c_{ss} = A k_{t}^{\\alpha} - \\delta k_{t}$"
     },
     "metadata": {}
    },
    {
     "output_type": "stream",
     "name": "stdout",
     "text": "Numerical solution for steady state for given parameters:\nk_ss = 10.2085\nc_ss = 3.3178\n"
    }
   ],
   "source": [
    "print('Analytical solution for steady state:')\n",
    "display(sm.Eq(kss,steady_state_c_sol[0]),sm.Eq(css,steady_state_k_sol[0]))\n",
    "print('Numerical solution for steady state for given parameters:')\n",
    "print(f\"k_ss = {k_SS:.4f}\")\n",
    "print(f\"c_ss = {c_SS:.4f}\")"
   ]
  },
  {
   "cell_type": "markdown",
   "metadata": {},
   "source": [
    "Then we constructed plot that vizualizes steady state for given parameters. And lastly, we constructed an interactive plot of steady state where one can choose different values of $\\beta \\in (0,1)$."
   ]
  }
 ],
 "metadata": {
  "language_info": {
   "codemirror_mode": {
    "name": "ipython",
    "version": 3
   },
   "file_extension": ".py",
   "mimetype": "text/x-python",
   "name": "python",
   "nbconvert_exporter": "python",
   "pygments_lexer": "ipython3",
   "version": "3.4.3-final"
  },
  "orig_nbformat": 2,
  "kernelspec": {
   "name": "python3",
   "display_name": "Python 3"
  }
 },
 "nbformat": 4,
 "nbformat_minor": 2
}