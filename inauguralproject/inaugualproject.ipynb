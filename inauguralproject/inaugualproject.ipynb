{
 "nbformat": 4,
 "nbformat_minor": 2,
 "metadata": {
  "language_info": {
   "name": "python",
   "codemirror_mode": {
    "name": "ipython",
    "version": 3
   },
   "version": "3.7.4-final"
  },
  "orig_nbformat": 2,
  "file_extension": ".py",
  "mimetype": "text/x-python",
  "name": "python",
  "npconvert_exporter": "python",
  "pygments_lexer": "ipython3",
  "version": 3,
  "kernelspec": {
   "name": "python3",
   "display_name": "Python 3"
  }
 },
 "cells": [
  {
   "cell_type": "markdown",
   "metadata": {},
   "source": [
    "# Project 0: Inaugural Project"
   ]
  },
  {
   "cell_type": "markdown",
   "metadata": {},
   "source": [
    "**Name:** Jana Ucnova (pvw581) // Spring semester 2020"
   ]
  },
  {
   "cell_type": "markdown",
   "metadata": {},
   "source": [
    "## Labor Supply Problem"
   ]
  },
  {
   "cell_type": "markdown",
   "metadata": {},
   "source": [
    "Consider a consumer solving the following maximization problem\n",
    "$$ c^*, \\: l^* = \\arg \\mathop{\\max}_{c, \\: l} \\log (c) + \\nu \\frac{l^{1+\\frac{1}{\\epsilon}}}{1+\\frac{1}{\\epsilon}}  $$\n",
    "s.t.\n",
    "$$\n",
    "x = m + wl - \\left[ \\tau_0wl + \\tau_1 \\max \\{ wl-\\kappa,0 \\} \\right] \n",
    "$$\n",
    "$$\n",
    "c \\in \\left[0, x \\right]\n",
    "$$\n",
    "$$\n",
    "l \\in \\left[0, 1 \\right]\n",
    "$$\n",
    "where $c$ is consumption, $l$ is labor supply, $m$ is cash-on-hand, $w$ is the wage rate, $\\tau_0$ is the\n",
    "standard labor income tax, $\\tau_1$ is the top bracket labor income tax, $\\kappa$ is the cut-off for the top\n",
    "labor income bracket, $x$ is total resources, $\\nu$ scales the disutility of labor, and $\\epsilon$ is the Frisch\n",
    "elasticity of labor supply. \n"
   ]
  },
  {
   "cell_type": "markdown",
   "metadata": {},
   "source": [
    "Note that utility is monotonically increasing in consumption. This implies that\n",
    "$$ c^* = x$$"
   ]
  },
  {
   "cell_type": "markdown",
   "metadata": {},
   "source": [
    "### Questions\n",
    "Firstly, we will import modules that we need for solving the assignment."
   ]
  },
  {
   "cell_type": "code",
   "execution_count": 1,
   "metadata": {},
   "outputs": [],
   "source": [
    "import numpy as np # import the numpy module\n",
    "import math # import math module\n",
    "from scipy import optimize\n",
    "import matplotlib.pyplot as plt # import the matplotlib module"
   ]
  },
  {
   "cell_type": "markdown",
   "metadata": {},
   "source": [
    "#### Question 1\n",
    "Construct a function which solves maxizing equation given the parameters. We choose the following parameter values:\n",
    "$$\n",
    "m = 1, \\: \\nu = 10, \\: \\epsilon = 0.3, \\: \\tau_0 = 0.4, \\: \\tau_1 = 0.1, \\: \\kappa=0.4\n",
    "$$"
   ]
  },
  {
   "cell_type": "markdown",
   "metadata": {},
   "source": [
    "We set given parameters."
   ]
  },
  {
   "cell_type": "code",
   "execution_count": 2,
   "metadata": {},
   "outputs": [],
   "source": [
    "m = 1\n",
    "nu = 10\n",
    "epsilon = 0.3\n",
    "tau0 = 0.4\n",
    "tau1 = 0.1\n",
    "kappa = 0.4"
   ]
  },
  {
   "cell_type": "markdown",
   "metadata": {},
   "source": [
    "We define utility function:"
   ]
  },
  {
   "cell_type": "code",
   "execution_count": 3,
   "metadata": {},
   "outputs": [],
   "source": [
    "def u_function(c,l,nu,epsilon):\n",
    "    if c > 0:\n",
    "        utility = math.log(c) - nu*(l**(1+1/epsilon))/(1+1/epsilon)\n",
    "    else:\n",
    "        utility = - np.inf\n",
    "    return utility"
   ]
  },
  {
   "cell_type": "markdown",
   "metadata": {},
   "source": [
    "Then we define function that solves maximization problem. This function uses loops to solve the problem."
   ]
  },
  {
   "cell_type": "code",
   "execution_count": 4,
   "metadata": {},
   "outputs": [],
   "source": [
    "def find_best_choice(w,R,tau0,tau1,kappa,m,nu,epsilon):\n",
    "    # where R is number of possible solutions we will loop through\n",
    "    \n",
    "    # allocate numpy arrays\n",
    "    shape_tuple = (R)\n",
    "    c_values = np.empty(shape_tuple)\n",
    "    l_values = np.empty(shape_tuple)\n",
    "    u_values = np.empty(shape_tuple)\n",
    "    \n",
    "    # start from guess\n",
    "    l_best = 0\n",
    "    c_best = 0 # cannot put 0 into the logarithm\n",
    "    u_best = u_function(c_best,l_best,nu=nu,epsilon=epsilon)\n",
    "\n",
    "    \n",
    "    # loop through all possibilities\n",
    "    for i in range(R):\n",
    "        \n",
    "        # i. labor l\n",
    "        l_values[i] = l = i/(R-1)\n",
    "        \n",
    "        # ii. implied consumption c\n",
    "        c_values[i] = c = m+ w*l - (tau0*w*l + tau1 * max([w*l-kappa,0]))\n",
    "            \n",
    "        # iii. utility u \n",
    "        u_values[i] = u_function(c,l,nu=nu,epsilon=epsilon)\n",
    "        \n",
    "        if u_values[i] >= u_best:    \n",
    "            l_best = l_values[i]\n",
    "            c_best = c_values[i] \n",
    "            u_best = u_values[i]  \n",
    "    # obtain optimal consumption, labor and utility\n",
    "    return c_best,l_best,u_best"
   ]
  },
  {
   "cell_type": "markdown",
   "metadata": {},
   "source": [
    "#### Question 2\n",
    "Plot $l^*$ and $c^*$ as functions of $w$ in the range $0.5$ to $1.5$. Consider a population with $N=10,000$ individuals indexed by $i$. Assume the distribution of wages is uniform such that\n",
    "$$\n",
    "w_i \\sim U(0.5,1.5)\n",
    "$$\n",
    "Denote the optimal choice of individual $i$ by $l_i^*$ and $c_i^*$."
   ]
  },
  {
   "cell_type": "markdown",
   "metadata": {},
   "source": [
    "We use the function defined in question 1 to obtain the optimal choice of consumption and labor for each individual i."
   ]
  },
  {
   "cell_type": "code",
   "execution_count": 5,
   "metadata": {},
   "outputs": [],
   "source": [
    "# loop trough grid of R solutions\n",
    "R = 500\n",
    "# consider 10,000 individuals\n",
    "N = 10000\n",
    "# choose random seed\n",
    "np.random.seed(2020)\n",
    "# uniformly distributed wages\n",
    "w_low = 0.5 # lower bound\n",
    "w_high = 1.5 # upper bound\n",
    "W = np.random.uniform(low=w_low,high=w_high,size=N)\n",
    "W = sorted(W) # sort wages\n",
    "\n",
    "# allocate numpy arrays for consumption, labor and utility\n",
    "c = np.empty(N)\n",
    "l = np.empty(N)\n",
    "u = np.empty(N)\n",
    "\n",
    "# denote optimal choice of individual i\n",
    "for i in range(N):\n",
    "    w = W[i]\n",
    "    c[i], l[i], u[i] = find_best_choice(w,R,tau0,tau1,kappa,m,nu,epsilon)"
   ]
  },
  {
   "cell_type": "markdown",
   "metadata": {},
   "source": [
    "Now, we plot $l^*_i$ and $c^*_i$ as a function of $w$."
   ]
  },
  {
   "cell_type": "code",
   "execution_count": 6,
   "metadata": {},
   "outputs": [
    {
     "data": {
      "image/png": "[encoded data removed]",
      "image/svg+xml": "<?xml version=\"1.0\" encoding=\"utf-8\" standalone=\"no\"?>\r\n<!DOCTYPE svg PUBLIC \"-//W3C//DTD SVG 1.1//EN\"\r\n  \"http://www.w3.org/Graphics/SVG/1.1/DTD/svg11.dtd\">\r\n<!-- Created with matplotlib (https://matplotlib.org/) -->\r\n<svg height=\"265.995469pt\" version=\"1.1\" viewBox=\"0 0 372.103125 265.995469\" width=\"372.103125pt\" xmlns=\"http://www.w3.org/2000/svg\" xmlns:xlink=\"http://www.w3.org/1999/xlink\">\r\n <defs>\r\n  <style type=\"text/css\">\r\n*{stroke-linecap:butt;stroke-linejoin:round;}\r\n  </style>\r\n </defs>\r\n <g id=\"figure_1\">\r\n  <g id=\"patch_1\">\r\n   <path d=\"M 0 265.995469 \r\nL 372.103125 265.995469 \r\nL 372.103125 0 \r\nL 0 0 \r\nz\r\n\" style=\"fill:none;\"/>\r\n  </g>\r\n  <g id=\"axes_1\">\r\n   <g id=\"patch_2\">\r\n    <path d=\"M 30.103125 228.439219 \r\nL 364.903125 228.439219 \r\nL 364.903125 10.999219 \r\nL 30.103125 10.999219 \r\nz\r\n\" style=\"fill:#ffffff;\"/>\r\n   </g>\r\n   <g id=\"matplotlib.axis_1\">\r\n    <g id=\"xtick_1\">\r\n     <g id=\"line2d_1\">\r\n      <defs>\r\n       <path d=\"M 0 0 \r\nL 0 3.5 \r\n\" id=\"m15cc72e063\" style=\"stroke:#000000;stroke-width:0.8;\"/>\r\n      </defs>\r\n      <g>\r\n       <use style=\"stroke:#000000;stroke-width:0.8;\" x=\"63.583125\" xlink:href=\"#m15cc72e063\" y=\"228.439219\"/>\r\n      </g>\r\n     </g>\r\n     <g id=\"text_1\">\r\n      <!-- 0.6 -->\r\n      <defs>\r\n       <path d=\"M 31.78125 66.40625 \r\nQ 24.171875 66.40625 20.328125 58.90625 \r\nQ 16.5 51.421875 16.5 36.375 \r\nQ 16.5 21.390625 20.328125 13.890625 \r\nQ 24.171875 6.390625 31.78125 6.390625 \r\nQ 39.453125 6.390625 43.28125 13.890625 \r\nQ 47.125 21.390625 47.125 36.375 \r\nQ 47.125 51.421875 43.28125 58.90625 \r\nQ 39.453125 66.40625 31.78125 66.40625 \r\nz\r\nM 31.78125 74.21875 \r\nQ 44.046875 74.21875 50.515625 64.515625 \r\nQ 56.984375 54.828125 56.984375 36.375 \r\nQ 56.984375 17.96875 50.515625 8.265625 \r\nQ 44.046875 -1.421875 31.78125 -1.421875 \r\nQ 19.53125 -1.421875 13.0625 8.265625 \r\nQ 6.59375 17.96875 6.59375 36.375 \r\nQ 6.59375 54.828125 13.0625 64.515625 \r\nQ 19.53125 74.21875 31.78125 74.21875 \r\nz\r\n\" id=\"DejaVuSans-48\"/>\r\n       <path d=\"M 10.6875 12.40625 \r\nL 21 12.40625 \r\nL 21 0 \r\nL 10.6875 0 \r\nz\r\n\" id=\"DejaVuSans-46\"/>\r\n       <path d=\"M 33.015625 40.375 \r\nQ 26.375 40.375 22.484375 35.828125 \r\nQ 18.609375 31.296875 18.609375 23.390625 \r\nQ 18.609375 15.53125 22.484375 10.953125 \r\nQ 26.375 6.390625 33.015625 6.390625 \r\nQ 39.65625 6.390625 43.53125 10.953125 \r\nQ 47.40625 15.53125 47.40625 23.390625 \r\nQ 47.40625 31.296875 43.53125 35.828125 \r\nQ 39.65625 40.375 33.015625 40.375 \r\nz\r\nM 52.59375 71.296875 \r\nL 52.59375 62.3125 \r\nQ 48.875 64.0625 45.09375 64.984375 \r\nQ 41.3125 65.921875 37.59375 65.921875 \r\nQ 27.828125 65.921875 22.671875 59.328125 \r\nQ 17.53125 52.734375 16.796875 39.40625 \r\nQ 19.671875 43.65625 24.015625 45.921875 \r\nQ 28.375 48.1875 33.59375 48.1875 \r\nQ 44.578125 48.1875 50.953125 41.515625 \r\nQ 57.328125 34.859375 57.328125 23.390625 \r\nQ 57.328125 12.15625 50.6875 5.359375 \r\nQ 44.046875 -1.421875 33.015625 -1.421875 \r\nQ 20.359375 -1.421875 13.671875 8.265625 \r\nQ 6.984375 17.96875 6.984375 36.375 \r\nQ 6.984375 53.65625 15.1875 63.9375 \r\nQ 23.390625 74.21875 37.203125 74.21875 \r\nQ 40.921875 74.21875 44.703125 73.484375 \r\nQ 48.484375 72.75 52.59375 71.296875 \r\nz\r\n\" id=\"DejaVuSans-54\"/>\r\n      </defs>\r\n      <g transform=\"translate(55.631563 243.037656)scale(0.1 -0.1)\">\r\n       <use xlink:href=\"#DejaVuSans-48\"/>\r\n       <use x=\"63.623047\" xlink:href=\"#DejaVuSans-46\"/>\r\n       <use x=\"95.410156\" xlink:href=\"#DejaVuSans-54\"/>\r\n      </g>\r\n     </g>\r\n    </g>\r\n    <g id=\"xtick_2\">\r\n     <g id=\"line2d_2\">\r\n      <g>\r\n       <use style=\"stroke:#000000;stroke-width:0.8;\" x=\"130.543125\" xlink:href=\"#m15cc72e063\" y=\"228.439219\"/>\r\n      </g>\r\n     </g>\r\n     <g id=\"text_2\">\r\n      <!-- 0.8 -->\r\n      <defs>\r\n       <path d=\"M 31.78125 34.625 \r\nQ 24.75 34.625 20.71875 30.859375 \r\nQ 16.703125 27.09375 16.703125 20.515625 \r\nQ 16.703125 13.921875 20.71875 10.15625 \r\nQ 24.75 6.390625 31.78125 6.390625 \r\nQ 38.8125 6.390625 42.859375 10.171875 \r\nQ 46.921875 13.96875 46.921875 20.515625 \r\nQ 46.921875 27.09375 42.890625 30.859375 \r\nQ 38.875 34.625 31.78125 34.625 \r\nz\r\nM 21.921875 38.8125 \r\nQ 15.578125 40.375 12.03125 44.71875 \r\nQ 8.5 49.078125 8.5 55.328125 \r\nQ 8.5 64.0625 14.71875 69.140625 \r\nQ 20.953125 74.21875 31.78125 74.21875 \r\nQ 42.671875 74.21875 48.875 69.140625 \r\nQ 55.078125 64.0625 55.078125 55.328125 \r\nQ 55.078125 49.078125 51.53125 44.71875 \r\nQ 48 40.375 41.703125 38.8125 \r\nQ 48.828125 37.15625 52.796875 32.3125 \r\nQ 56.78125 27.484375 56.78125 20.515625 \r\nQ 56.78125 9.90625 50.3125 4.234375 \r\nQ 43.84375 -1.421875 31.78125 -1.421875 \r\nQ 19.734375 -1.421875 13.25 4.234375 \r\nQ 6.78125 9.90625 6.78125 20.515625 \r\nQ 6.78125 27.484375 10.78125 32.3125 \r\nQ 14.796875 37.15625 21.921875 38.8125 \r\nz\r\nM 18.3125 54.390625 \r\nQ 18.3125 48.734375 21.84375 45.5625 \r\nQ 25.390625 42.390625 31.78125 42.390625 \r\nQ 38.140625 42.390625 41.71875 45.5625 \r\nQ 45.3125 48.734375 45.3125 54.390625 \r\nQ 45.3125 60.0625 41.71875 63.234375 \r\nQ 38.140625 66.40625 31.78125 66.40625 \r\nQ 25.390625 66.40625 21.84375 63.234375 \r\nQ 18.3125 60.0625 18.3125 54.390625 \r\nz\r\n\" id=\"DejaVuSans-56\"/>\r\n      </defs>\r\n      <g transform=\"translate(122.591563 243.037656)scale(0.1 -0.1)\">\r\n       <use xlink:href=\"#DejaVuSans-48\"/>\r\n       <use x=\"63.623047\" xlink:href=\"#DejaVuSans-46\"/>\r\n       <use x=\"95.410156\" xlink:href=\"#DejaVuSans-56\"/>\r\n      </g>\r\n     </g>\r\n    </g>\r\n    <g id=\"xtick_3\">\r\n     <g id=\"line2d_3\">\r\n      <g>\r\n       <use style=\"stroke:#000000;stroke-width:0.8;\" x=\"197.503125\" xlink:href=\"#m15cc72e063\" y=\"228.439219\"/>\r\n      </g>\r\n     </g>\r\n     <g id=\"text_3\">\r\n      <!-- 1.0 -->\r\n      <defs>\r\n       <path d=\"M 12.40625 8.296875 \r\nL 28.515625 8.296875 \r\nL 28.515625 63.921875 \r\nL 10.984375 60.40625 \r\nL 10.984375 69.390625 \r\nL 28.421875 72.90625 \r\nL 38.28125 72.90625 \r\nL 38.28125 8.296875 \r\nL 54.390625 8.296875 \r\nL 54.390625 0 \r\nL 12.40625 0 \r\nz\r\n\" id=\"DejaVuSans-49\"/>\r\n      </defs>\r\n      <g transform=\"translate(189.551563 243.037656)scale(0.1 -0.1)\">\r\n       <use xlink:href=\"#DejaVuSans-49\"/>\r\n       <use x=\"63.623047\" xlink:href=\"#DejaVuSans-46\"/>\r\n       <use x=\"95.410156\" xlink:href=\"#DejaVuSans-48\"/>\r\n      </g>\r\n     </g>\r\n    </g>\r\n    <g id=\"xtick_4\">\r\n     <g id=\"line2d_4\">\r\n      <g>\r\n       <use style=\"stroke:#000000;stroke-width:0.8;\" x=\"264.463125\" xlink:href=\"#m15cc72e063\" y=\"228.439219\"/>\r\n      </g>\r\n     </g>\r\n     <g id=\"text_4\">\r\n      <!-- 1.2 -->\r\n      <defs>\r\n       <path d=\"M 19.1875 8.296875 \r\nL 53.609375 8.296875 \r\nL 53.609375 0 \r\nL 7.328125 0 \r\nL 7.328125 8.296875 \r\nQ 12.9375 14.109375 22.625 23.890625 \r\nQ 32.328125 33.6875 34.8125 36.53125 \r\nQ 39.546875 41.84375 41.421875 45.53125 \r\nQ 43.3125 49.21875 43.3125 52.78125 \r\nQ 43.3125 58.59375 39.234375 62.25 \r\nQ 35.15625 65.921875 28.609375 65.921875 \r\nQ 23.96875 65.921875 18.8125 64.3125 \r\nQ 13.671875 62.703125 7.8125 59.421875 \r\nL 7.8125 69.390625 \r\nQ 13.765625 71.78125 18.9375 73 \r\nQ 24.125 74.21875 28.421875 74.21875 \r\nQ 39.75 74.21875 46.484375 68.546875 \r\nQ 53.21875 62.890625 53.21875 53.421875 \r\nQ 53.21875 48.921875 51.53125 44.890625 \r\nQ 49.859375 40.875 45.40625 35.40625 \r\nQ 44.1875 33.984375 37.640625 27.21875 \r\nQ 31.109375 20.453125 19.1875 8.296875 \r\nz\r\n\" id=\"DejaVuSans-50\"/>\r\n      </defs>\r\n      <g transform=\"translate(256.511563 243.037656)scale(0.1 -0.1)\">\r\n       <use xlink:href=\"#DejaVuSans-49\"/>\r\n       <use x=\"63.623047\" xlink:href=\"#DejaVuSans-46\"/>\r\n       <use x=\"95.410156\" xlink:href=\"#DejaVuSans-50\"/>\r\n      </g>\r\n     </g>\r\n    </g>\r\n    <g id=\"xtick_5\">\r\n     <g id=\"line2d_5\">\r\n      <g>\r\n       <use style=\"stroke:#000000;stroke-width:0.8;\" x=\"331.423125\" xlink:href=\"#m15cc72e063\" y=\"228.439219\"/>\r\n      </g>\r\n     </g>\r\n     <g id=\"text_5\">\r\n      <!-- 1.4 -->\r\n      <defs>\r\n       <path d=\"M 37.796875 64.3125 \r\nL 12.890625 25.390625 \r\nL 37.796875 25.390625 \r\nz\r\nM 35.203125 72.90625 \r\nL 47.609375 72.90625 \r\nL 47.609375 25.390625 \r\nL 58.015625 25.390625 \r\nL 58.015625 17.1875 \r\nL 47.609375 17.1875 \r\nL 47.609375 0 \r\nL 37.796875 0 \r\nL 37.796875 17.1875 \r\nL 4.890625 17.1875 \r\nL 4.890625 26.703125 \r\nz\r\n\" id=\"DejaVuSans-52\"/>\r\n      </defs>\r\n      <g transform=\"translate(323.471563 243.037656)scale(0.1 -0.1)\">\r\n       <use xlink:href=\"#DejaVuSans-49\"/>\r\n       <use x=\"63.623047\" xlink:href=\"#DejaVuSans-46\"/>\r\n       <use x=\"95.410156\" xlink:href=\"#DejaVuSans-52\"/>\r\n      </g>\r\n     </g>\r\n    </g>\r\n    <g id=\"text_6\">\r\n     <!-- $w_i$ -->\r\n     <defs>\r\n      <path d=\"M 8.5 54.6875 \r\nL 17.390625 54.6875 \r\nL 19.671875 10.6875 \r\nL 40.09375 54.6875 \r\nL 50.484375 54.6875 \r\nL 53.515625 10.6875 \r\nL 72.90625 54.6875 \r\nL 81.890625 54.6875 \r\nL 56.890625 0 \r\nL 46.390625 0 \r\nL 43.703125 45.3125 \r\nL 22.796875 0 \r\nL 12.203125 0 \r\nz\r\n\" id=\"DejaVuSans-Oblique-119\"/>\r\n      <path d=\"M 18.3125 75.984375 \r\nL 27.296875 75.984375 \r\nL 25.09375 64.59375 \r\nL 16.109375 64.59375 \r\nz\r\nM 14.203125 54.6875 \r\nL 23.1875 54.6875 \r\nL 12.5 0 \r\nL 3.515625 0 \r\nz\r\n\" id=\"DejaVuSans-Oblique-105\"/>\r\n     </defs>\r\n     <g transform=\"translate(192.303125 256.715781)scale(0.1 -0.1)\">\r\n      <use transform=\"translate(0 0.3125)\" xlink:href=\"#DejaVuSans-Oblique-119\"/>\r\n      <use transform=\"translate(81.787109 -16.09375)scale(0.7)\" xlink:href=\"#DejaVuSans-Oblique-105\"/>\r\n     </g>\r\n    </g>\r\n   </g>\r\n   <g id=\"matplotlib.axis_2\">\r\n    <g id=\"ytick_1\">\r\n     <g id=\"line2d_6\">\r\n      <defs>\r\n       <path d=\"M 0 0 \r\nL -3.5 0 \r\n\" id=\"m17fd56bfc1\" style=\"stroke:#000000;stroke-width:0.8;\"/>\r\n      </defs>\r\n      <g>\r\n       <use style=\"stroke:#000000;stroke-width:0.8;\" x=\"30.103125\" xlink:href=\"#m17fd56bfc1\" y=\"228.439219\"/>\r\n      </g>\r\n     </g>\r\n     <g id=\"text_7\">\r\n      <!-- 0.0 -->\r\n      <g transform=\"translate(7.2 232.238437)scale(0.1 -0.1)\">\r\n       <use xlink:href=\"#DejaVuSans-48\"/>\r\n       <use x=\"63.623047\" xlink:href=\"#DejaVuSans-46\"/>\r\n       <use x=\"95.410156\" xlink:href=\"#DejaVuSans-48\"/>\r\n      </g>\r\n     </g>\r\n    </g>\r\n    <g id=\"ytick_2\">\r\n     <g id=\"line2d_7\">\r\n      <g>\r\n       <use style=\"stroke:#000000;stroke-width:0.8;\" x=\"30.103125\" xlink:href=\"#m17fd56bfc1\" y=\"201.259219\"/>\r\n      </g>\r\n     </g>\r\n     <g id=\"text_8\">\r\n      <!-- 0.2 -->\r\n      <g transform=\"translate(7.2 205.058437)scale(0.1 -0.1)\">\r\n       <use xlink:href=\"#DejaVuSans-48\"/>\r\n       <use x=\"63.623047\" xlink:href=\"#DejaVuSans-46\"/>\r\n       <use x=\"95.410156\" xlink:href=\"#DejaVuSans-50\"/>\r\n      </g>\r\n     </g>\r\n    </g>\r\n    <g id=\"ytick_3\">\r\n     <g id=\"line2d_8\">\r\n      <g>\r\n       <use style=\"stroke:#000000;stroke-width:0.8;\" x=\"30.103125\" xlink:href=\"#m17fd56bfc1\" y=\"174.079219\"/>\r\n      </g>\r\n     </g>\r\n     <g id=\"text_9\">\r\n      <!-- 0.4 -->\r\n      <g transform=\"translate(7.2 177.878437)scale(0.1 -0.1)\">\r\n       <use xlink:href=\"#DejaVuSans-48\"/>\r\n       <use x=\"63.623047\" xlink:href=\"#DejaVuSans-46\"/>\r\n       <use x=\"95.410156\" xlink:href=\"#DejaVuSans-52\"/>\r\n      </g>\r\n     </g>\r\n    </g>\r\n    <g id=\"ytick_4\">\r\n     <g id=\"line2d_9\">\r\n      <g>\r\n       <use style=\"stroke:#000000;stroke-width:0.8;\" x=\"30.103125\" xlink:href=\"#m17fd56bfc1\" y=\"146.899219\"/>\r\n      </g>\r\n     </g>\r\n     <g id=\"text_10\">\r\n      <!-- 0.6 -->\r\n      <g transform=\"translate(7.2 150.698437)scale(0.1 -0.1)\">\r\n       <use xlink:href=\"#DejaVuSans-48\"/>\r\n       <use x=\"63.623047\" xlink:href=\"#DejaVuSans-46\"/>\r\n       <use x=\"95.410156\" xlink:href=\"#DejaVuSans-54\"/>\r\n      </g>\r\n     </g>\r\n    </g>\r\n    <g id=\"ytick_5\">\r\n     <g id=\"line2d_10\">\r\n      <g>\r\n       <use style=\"stroke:#000000;stroke-width:0.8;\" x=\"30.103125\" xlink:href=\"#m17fd56bfc1\" y=\"119.719219\"/>\r\n      </g>\r\n     </g>\r\n     <g id=\"text_11\">\r\n      <!-- 0.8 -->\r\n      <g transform=\"translate(7.2 123.518437)scale(0.1 -0.1)\">\r\n       <use xlink:href=\"#DejaVuSans-48\"/>\r\n       <use x=\"63.623047\" xlink:href=\"#DejaVuSans-46\"/>\r\n       <use x=\"95.410156\" xlink:href=\"#DejaVuSans-56\"/>\r\n      </g>\r\n     </g>\r\n    </g>\r\n    <g id=\"ytick_6\">\r\n     <g id=\"line2d_11\">\r\n      <g>\r\n       <use style=\"stroke:#000000;stroke-width:0.8;\" x=\"30.103125\" xlink:href=\"#m17fd56bfc1\" y=\"92.539219\"/>\r\n      </g>\r\n     </g>\r\n     <g id=\"text_12\">\r\n      <!-- 1.0 -->\r\n      <g transform=\"translate(7.2 96.338437)scale(0.1 -0.1)\">\r\n       <use xlink:href=\"#DejaVuSans-49\"/>\r\n       <use x=\"63.623047\" xlink:href=\"#DejaVuSans-46\"/>\r\n       <use x=\"95.410156\" xlink:href=\"#DejaVuSans-48\"/>\r\n      </g>\r\n     </g>\r\n    </g>\r\n    <g id=\"ytick_7\">\r\n     <g id=\"line2d_12\">\r\n      <g>\r\n       <use style=\"stroke:#000000;stroke-width:0.8;\" x=\"30.103125\" xlink:href=\"#m17fd56bfc1\" y=\"65.359219\"/>\r\n      </g>\r\n     </g>\r\n     <g id=\"text_13\">\r\n      <!-- 1.2 -->\r\n      <g transform=\"translate(7.2 69.158437)scale(0.1 -0.1)\">\r\n       <use xlink:href=\"#DejaVuSans-49\"/>\r\n       <use x=\"63.623047\" xlink:href=\"#DejaVuSans-46\"/>\r\n       <use x=\"95.410156\" xlink:href=\"#DejaVuSans-50\"/>\r\n      </g>\r\n     </g>\r\n    </g>\r\n    <g id=\"ytick_8\">\r\n     <g id=\"line2d_13\">\r\n      <g>\r\n       <use style=\"stroke:#000000;stroke-width:0.8;\" x=\"30.103125\" xlink:href=\"#m17fd56bfc1\" y=\"38.179219\"/>\r\n      </g>\r\n     </g>\r\n     <g id=\"text_14\">\r\n      <!-- 1.4 -->\r\n      <g transform=\"translate(7.2 41.978437)scale(0.1 -0.1)\">\r\n       <use xlink:href=\"#DejaVuSans-49\"/>\r\n       <use x=\"63.623047\" xlink:href=\"#DejaVuSans-46\"/>\r\n       <use x=\"95.410156\" xlink:href=\"#DejaVuSans-52\"/>\r\n      </g>\r\n     </g>\r\n    </g>\r\n    <g id=\"ytick_9\">\r\n     <g id=\"line2d_14\">\r\n      <g>\r\n       <use style=\"stroke:#000000;stroke-width:0.8;\" x=\"30.103125\" xlink:href=\"#m17fd56bfc1\" y=\"10.999219\"/>\r\n      </g>\r\n     </g>\r\n     <g id=\"text_15\">\r\n      <!-- 1.6 -->\r\n      <g transform=\"translate(7.2 14.798437)scale(0.1 -0.1)\">\r\n       <use xlink:href=\"#DejaVuSans-49\"/>\r\n       <use x=\"63.623047\" xlink:href=\"#DejaVuSans-46\"/>\r\n       <use x=\"95.410156\" xlink:href=\"#DejaVuSans-54\"/>\r\n      </g>\r\n     </g>\r\n    </g>\r\n   </g>\r\n   <g id=\"line2d_15\">\r\n    <path clip-path=\"url(#p2f87629389)\" d=\"M 30.11575 182.412966 \r\nL 30.895558 182.412966 \r\nL 31.068661 182.140622 \r\nL 34.670963 182.140622 \r\nL 34.821363 181.868277 \r\nL 38.543688 181.868277 \r\nL 38.702179 181.595932 \r\nL 42.48883 181.595932 \r\nL 42.616771 181.323587 \r\nL 46.504512 181.323587 \r\nL 46.696041 181.051243 \r\nL 50.604944 181.051243 \r\nL 50.758582 180.778898 \r\nL 54.770775 180.778898 \r\nL 54.935766 180.506553 \r\nL 59.010394 180.506553 \r\nL 59.172491 180.234209 \r\nL 63.412783 180.234209 \r\nL 63.526525 179.961864 \r\nL 67.850797 179.961864 \r\nL 67.989646 179.689519 \r\nL 72.387557 179.689519 \r\nL 72.522856 179.417175 \r\nL 77.011063 179.417175 \r\nL 77.140336 179.14483 \r\nL 81.715325 179.14483 \r\nL 81.860175 178.872485 \r\nL 86.518743 178.872485 \r\nL 86.661411 178.600141 \r\nL 91.474174 178.600141 \r\nL 91.602157 178.327796 \r\nL 96.484295 178.327796 \r\nL 96.615043 178.055451 \r\nL 101.609278 178.055451 \r\nL 101.722284 177.783107 \r\nL 106.845773 177.783107 \r\nL 106.98541 177.510762 \r\nL 112.20845 177.510762 \r\nL 112.301718 177.238417 \r\nL 117.675459 177.238417 \r\nL 117.737968 176.966072 \r\nL 123.21654 176.966072 \r\nL 123.409331 176.693728 \r\nL 128.847232 176.693728 \r\nL 129.13097 176.421383 \r\nL 134.715127 176.421383 \r\nL 134.899896 176.149038 \r\nL 140.722089 176.149038 \r\nL 140.868634 175.876694 \r\nL 146.798661 175.876694 \r\nL 146.844539 175.604349 \r\nL 153.024005 175.604349 \r\nL 153.059536 175.332004 \r\nL 159.386538 175.332004 \r\nL 159.513888 175.05966 \r\nL 165.886622 175.05966 \r\nL 166.097851 174.787315 \r\nL 172.475053 174.787315 \r\nL 172.732375 174.51497 \r\nL 179.270619 174.51497 \r\nL 179.444603 174.242626 \r\nL 186.283699 174.242626 \r\nL 186.421528 173.970281 \r\nL 193.417863 173.970281 \r\nL 193.506344 173.697936 \r\nL 195.152254 173.697936 \r\nL 195.392035 173.970281 \r\nL 197.091089 173.970281 \r\nL 197.232382 174.242626 \r\nL 198.976603 174.242626 \r\nL 199.089921 174.51497 \r\nL 200.894552 174.51497 \r\nL 201.074732 174.787315 \r\nL 202.840816 174.787315 \r\nL 202.949674 175.05966 \r\nL 204.801029 175.05966 \r\nL 204.883055 175.332004 \r\nL 206.757875 175.332004 \r\nL 206.877798 175.604349 \r\nL 208.713098 175.604349 \r\nL 208.864215 175.876694 \r\nL 217.245016 175.876694 \r\nL 217.379361 175.604349 \r\nL 224.998981 175.604349 \r\nL 225.141424 175.332004 \r\nL 232.944894 175.332004 \r\nL 233.133113 175.05966 \r\nL 241.066312 175.05966 \r\nL 241.118058 174.787315 \r\nL 249.377457 174.787315 \r\nL 249.447943 174.51497 \r\nL 257.868127 174.51497 \r\nL 257.937999 174.242626 \r\nL 266.521959 174.242626 \r\nL 266.657101 173.970281 \r\nL 275.409491 173.970281 \r\nL 275.533453 173.697936 \r\nL 284.444582 173.697936 \r\nL 284.548227 173.425591 \r\nL 293.819213 173.425591 \r\nL 293.925361 173.153247 \r\nL 303.353267 173.153247 \r\nL 303.439266 172.880902 \r\nL 313.070685 172.880902 \r\nL 313.321751 172.608557 \r\nL 323.09704 172.608557 \r\nL 323.243595 172.336213 \r\nL 333.280115 172.336213 \r\nL 333.468194 172.063868 \r\nL 343.802474 172.063868 \r\nL 343.960015 171.791523 \r\nL 354.546306 171.791523 \r\nL 354.699306 171.519179 \r\nL 364.882292 171.519179 \r\nL 364.882292 171.519179 \r\n\" style=\"fill:none;stroke:#1f77b4;stroke-linecap:square;stroke-width:1.5;\"/>\r\n   </g>\r\n   <g id=\"line2d_16\">\r\n    <path clip-path=\"url(#p2f87629389)\" d=\"M 30.11575 78.730302 \r\nL 34.670963 78.270635 \r\nL 34.821363 78.17415 \r\nL 42.48883 77.446471 \r\nL 42.81609 77.33109 \r\nL 50.604944 76.581715 \r\nL 50.758582 76.476883 \r\nL 59.010394 75.676261 \r\nL 59.214426 75.562822 \r\nL 67.850797 74.716609 \r\nL 67.989646 74.604351 \r\nL 77.011063 73.711597 \r\nL 77.140336 73.595579 \r\nL 86.518743 72.65784 \r\nL 86.722097 72.530439 \r\nL 91.474174 72.105996 \r\nL 91.602157 71.982846 \r\nL 96.484295 71.544403 \r\nL 96.640697 71.416179 \r\nL 101.609278 70.967548 \r\nL 101.722284 70.840686 \r\nL 106.845773 70.375568 \r\nL 106.995842 70.242711 \r\nL 112.20845 69.766959 \r\nL 112.301718 69.636624 \r\nL 117.675459 69.143541 \r\nL 117.737968 69.01333 \r\nL 123.21654 68.507955 \r\nL 123.444311 68.359683 \r\nL 128.847232 67.85865 \r\nL 129.17726 67.697986 \r\nL 134.715127 67.181736 \r\nL 134.956039 67.026398 \r\nL 140.722089 66.486061 \r\nL 140.868634 66.336564 \r\nL 146.798661 65.777967 \r\nL 146.844539 65.634963 \r\nL 153.024005 65.049853 \r\nL 153.059536 64.904774 \r\nL 159.386538 64.302607 \r\nL 159.513888 64.145621 \r\nL 165.886622 63.53599 \r\nL 166.122154 63.365368 \r\nL 172.475053 62.754535 \r\nL 172.742149 62.577532 \r\nL 179.270619 61.946631 \r\nL 179.469377 61.772818 \r\nL 186.283699 61.110967 \r\nL 186.421528 60.939582 \r\nL 193.417863 60.256637 \r\nL 193.506344 60.086544 \r\nL 195.152254 59.925076 \r\nL 195.392035 60.063929 \r\nL 197.091089 59.902267 \r\nL 197.232382 60.047559 \r\nL 198.976603 59.885661 \r\nL 199.089921 60.031324 \r\nL 200.894552 59.867976 \r\nL 201.074732 60.004665 \r\nL 202.840816 59.849583 \r\nL 202.949674 59.990454 \r\nL 204.801029 59.831661 \r\nL 204.804718 59.979967 \r\nL 204.883055 59.972511 \r\nL 206.757875 59.8156 \r\nL 206.877798 59.950645 \r\nL 208.713098 59.80126 \r\nL 208.864215 59.931511 \r\nL 216.040373 59.366812 \r\nL 217.245016 59.272249 \r\nL 217.379361 59.117447 \r\nL 224.998981 58.51622 \r\nL 225.141424 58.357567 \r\nL 232.944894 57.738659 \r\nL 233.147808 57.571896 \r\nL 241.066312 56.940644 \r\nL 241.234643 56.773266 \r\nL 249.377457 56.12082 \r\nL 249.447943 55.957873 \r\nL 257.868127 55.279778 \r\nL 257.937999 55.113398 \r\nL 266.521959 54.418623 \r\nL 266.657101 54.243386 \r\nL 275.409491 53.531419 \r\nL 275.533453 53.353425 \r\nL 284.444582 52.624921 \r\nL 284.548227 52.444872 \r\nL 293.819213 51.683177 \r\nL 293.994085 51.493392 \r\nL 303.353267 50.720645 \r\nL 303.439266 50.534285 \r\nL 313.070685 49.735143 \r\nL 313.372974 49.526762 \r\nL 323.09704 48.715977 \r\nL 323.243595 48.516443 \r\nL 333.280115 47.675525 \r\nL 333.468194 47.468294 \r\nL 343.802474 46.598224 \r\nL 343.960015 46.38922 \r\nL 354.546306 45.493627 \r\nL 354.699306 45.280575 \r\nL 364.882292 44.41496 \r\nL 364.882292 44.41496 \r\n\" style=\"fill:none;stroke:#ff7f0e;stroke-linecap:square;stroke-width:1.5;\"/>\r\n   </g>\r\n   <g id=\"patch_3\">\r\n    <path d=\"M 30.103125 228.439219 \r\nL 30.103125 10.999219 \r\n\" style=\"fill:none;stroke:#000000;stroke-linecap:square;stroke-linejoin:miter;stroke-width:0.8;\"/>\r\n   </g>\r\n   <g id=\"patch_4\">\r\n    <path d=\"M 364.903125 228.439219 \r\nL 364.903125 10.999219 \r\n\" style=\"fill:none;stroke:#000000;stroke-linecap:square;stroke-linejoin:miter;stroke-width:0.8;\"/>\r\n   </g>\r\n   <g id=\"patch_5\">\r\n    <path d=\"M 30.103125 228.439219 \r\nL 364.903125 228.439219 \r\n\" style=\"fill:none;stroke:#000000;stroke-linecap:square;stroke-linejoin:miter;stroke-width:0.8;\"/>\r\n   </g>\r\n   <g id=\"patch_6\">\r\n    <path d=\"M 30.103125 10.999219 \r\nL 364.903125 10.999219 \r\n\" style=\"fill:none;stroke:#000000;stroke-linecap:square;stroke-linejoin:miter;stroke-width:0.8;\"/>\r\n   </g>\r\n   <g id=\"legend_1\">\r\n    <g id=\"patch_7\">\r\n     <path d=\"M 37.103125 52.799219 \r\nL 81.603125 52.799219 \r\nQ 83.603125 52.799219 83.603125 50.799219 \r\nL 83.603125 17.999219 \r\nQ 83.603125 15.999219 81.603125 15.999219 \r\nL 37.103125 15.999219 \r\nQ 35.103125 15.999219 35.103125 17.999219 \r\nL 35.103125 50.799219 \r\nQ 35.103125 52.799219 37.103125 52.799219 \r\nz\r\n\" style=\"fill:#ffffff;opacity:0.8;stroke:#cccccc;stroke-linejoin:miter;\"/>\r\n    </g>\r\n    <g id=\"line2d_17\">\r\n     <path d=\"M 39.103125 25.599219 \r\nL 59.103125 25.599219 \r\n\" style=\"fill:none;stroke:#1f77b4;stroke-linecap:square;stroke-width:1.5;\"/>\r\n    </g>\r\n    <g id=\"line2d_18\"/>\r\n    <g id=\"text_16\">\r\n     <!-- $l^*_i$ -->\r\n     <defs>\r\n      <path d=\"M 18.3125 75.984375 \r\nL 27.296875 75.984375 \r\nL 12.5 0 \r\nL 3.515625 0 \r\nz\r\n\" id=\"DejaVuSans-Oblique-108\"/>\r\n      <path d=\"M 47.015625 60.890625 \r\nL 29.5 51.421875 \r\nL 47.015625 41.890625 \r\nL 44.1875 37.109375 \r\nL 27.78125 47.015625 \r\nL 27.78125 28.609375 \r\nL 22.21875 28.609375 \r\nL 22.21875 47.015625 \r\nL 5.8125 37.109375 \r\nL 2.984375 41.890625 \r\nL 20.515625 51.421875 \r\nL 2.984375 60.890625 \r\nL 5.8125 65.71875 \r\nL 22.21875 55.8125 \r\nL 22.21875 74.21875 \r\nL 27.78125 74.21875 \r\nL 27.78125 55.8125 \r\nL 44.1875 65.71875 \r\nz\r\n\" id=\"DejaVuSans-42\"/>\r\n     </defs>\r\n     <g transform=\"translate(67.103125 29.099219)scale(0.1 -0.1)\">\r\n      <use transform=\"translate(0 0.701562)\" xlink:href=\"#DejaVuSans-Oblique-108\"/>\r\n      <use transform=\"translate(48.868607 39.046875)scale(0.7)\" xlink:href=\"#DejaVuSans-42\"/>\r\n      <use transform=\"translate(27.783203 -26.642188)scale(0.7)\" xlink:href=\"#DejaVuSans-Oblique-105\"/>\r\n     </g>\r\n    </g>\r\n    <g id=\"line2d_19\">\r\n     <path d=\"M 39.103125 42.499219 \r\nL 59.103125 42.499219 \r\n\" style=\"fill:none;stroke:#ff7f0e;stroke-linecap:square;stroke-width:1.5;\"/>\r\n    </g>\r\n    <g id=\"line2d_20\"/>\r\n    <g id=\"text_17\">\r\n     <!-- $c^*_i$ -->\r\n     <defs>\r\n      <path d=\"M 53.609375 52.59375 \r\nL 51.8125 43.703125 \r\nQ 48.578125 46.046875 44.9375 47.21875 \r\nQ 41.3125 48.390625 37.40625 48.390625 \r\nQ 33.109375 48.390625 29.21875 46.875 \r\nQ 25.34375 45.359375 22.703125 42.578125 \r\nQ 18.5 38.328125 16.203125 32.609375 \r\nQ 13.921875 26.90625 13.921875 20.796875 \r\nQ 13.921875 13.421875 17.609375 9.8125 \r\nQ 21.296875 6.203125 28.8125 6.203125 \r\nQ 32.515625 6.203125 36.6875 7.328125 \r\nQ 40.875 8.453125 45.40625 10.6875 \r\nL 43.703125 1.8125 \r\nQ 39.796875 0.203125 35.671875 -0.609375 \r\nQ 31.546875 -1.421875 27.203125 -1.421875 \r\nQ 16.3125 -1.421875 10.453125 4.015625 \r\nQ 4.59375 9.46875 4.59375 19.578125 \r\nQ 4.59375 28.078125 7.640625 35.234375 \r\nQ 10.6875 42.390625 16.703125 48.09375 \r\nQ 20.796875 52 26.3125 54 \r\nQ 31.84375 56 38.375 56 \r\nQ 42.1875 56 45.9375 55.140625 \r\nQ 49.703125 54.296875 53.609375 52.59375 \r\nz\r\n\" id=\"DejaVuSans-Oblique-99\"/>\r\n     </defs>\r\n     <g transform=\"translate(67.103125 45.999219)scale(0.1 -0.1)\">\r\n      <use transform=\"translate(0 0.701562)\" xlink:href=\"#DejaVuSans-Oblique-99\"/>\r\n      <use transform=\"translate(73.26806 39.046875)scale(0.7)\" xlink:href=\"#DejaVuSans-42\"/>\r\n      <use transform=\"translate(54.980469 -26.642188)scale(0.7)\" xlink:href=\"#DejaVuSans-Oblique-105\"/>\r\n     </g>\r\n    </g>\r\n   </g>\r\n  </g>\r\n </g>\r\n <defs>\r\n  <clipPath id=\"p2f87629389\">\r\n   <rect height=\"217.44\" width=\"334.8\" x=\"30.103125\" y=\"10.999219\"/>\r\n  </clipPath>\r\n </defs>\r\n</svg>\r\n",
      "text/plain": "<Figure size 432x288 with 1 Axes>"
     },
     "metadata": {
      "needs_background": "light"
     },
     "output_type": "display_data"
    }
   ],
   "source": [
    "# plot\n",
    "fig = plt.figure()\n",
    "ax = fig.add_subplot(1,1,1)\n",
    "ax.plot(W,l,label='$l^*_i$')\n",
    "ax.plot(W,c,label='$c^*_i$')\n",
    "ax.set_xlim([0.5,1.5])\n",
    "ax.set_ylim([0,1.6])\n",
    "ax.set_xlabel('$w_i$')\n",
    "ax.legend(loc='upper left');"
   ]
  },
  {
   "cell_type": "markdown",
   "metadata": {},
   "source": [
    "#### Question 3\n",
    "Calculate the total tax revenue given by\n",
    "$$\n",
    "T = \\sum_{i=1}^{N} \\left[ \\tau_0 w_i l_i^* + \\tau_1 \\max \\{ w_i l_i^* - \\kappa,0 \\} \\right]\n",
    "$$"
   ]
  },
  {
   "cell_type": "code",
   "execution_count": 7,
   "metadata": {},
   "outputs": [
    {
     "name": "stdout",
     "output_type": "stream",
     "text": "Total tax revenue:: 1621.3208\n"
    }
   ],
   "source": [
    "# allocate numpy array\n",
    "t = np.empty(N)\n",
    "# loop over N individuals\n",
    "for i in range(N):\n",
    "    t[i] = tau0*W[i]*l[i] + tau1*max([W[i]*l[i]-kappa,0])\n",
    "# obtain total tax revenue\n",
    "T = sum(t)\n",
    "print(f'Total tax revenue:: {T:.4f}')"
   ]
  },
  {
   "cell_type": "markdown",
   "metadata": {},
   "source": [
    "#### Question 4\n",
    "What would the tax revenue be if instead $\\epsilon = 0.1$?"
   ]
  },
  {
   "cell_type": "code",
   "execution_count": 8,
   "metadata": {},
   "outputs": [
    {
     "name": "stdout",
     "output_type": "stream",
     "text": "New total tax revenue: 3181.1007\n"
    }
   ],
   "source": [
    "# define new epsilon\n",
    "epsilon_new = 0.1\n",
    "# allocate numpy arrays for consumption, labor and utility\n",
    "c_new = np.empty(N)\n",
    "l_new = np.empty(N)\n",
    "u_new = np.empty(N)\n",
    "\n",
    "# denote omptimal choice of individual i\n",
    "for i in range(N):\n",
    "    w = W[i]\n",
    "    c_new[i], l_new[i], u_new[i] = find_best_choice(w,R,tau0,tau1,kappa,m,nu,epsilon_new)\n",
    "\n",
    "# allocate numpy array\n",
    "t_new = np.empty(N)\n",
    "# loop over N individuals\n",
    "for i in range(N):\n",
    "    t_new[i] = tau0*W[i]*l_new[i] + tau1*max([W[i]*l_new[i]-kappa,0])\n",
    "# obtain total tax revenue\n",
    "T_new = sum(t_new)\n",
    "print(f'New total tax revenue: {T_new:.4f}')"
   ]
  },
  {
   "cell_type": "markdown",
   "metadata": {},
   "source": [
    "Consider a politician who wishes to maximize the tax revenue."
   ]
  },
  {
   "cell_type": "markdown",
   "metadata": {},
   "source": [
    "#### Question 5\n",
    "Which $\\tau_0$, $\\tau_1$ and $\\kappa$ would you suggest her to implement? Report the tax revenue you expect to obtain."
   ]
  },
  {
   "cell_type": "code",
   "execution_count": 9,
   "metadata": {},
   "outputs": [],
   "source": [
    "# Define function to obtain total tax revenue\n",
    "def total_tax_revenue(x,N,W,l):\n",
    "    # define parameters\n",
    "    tau0_optimal = x[0]\n",
    "    tau1_optimal = x[1]\n",
    "    kappa_optimal = x[2]\n",
    "\n",
    "    # allocate numpy array\n",
    "    t = np.empty(N)\n",
    "\n",
    "    # loop through N individuals\n",
    "    for i in range(N):\n",
    "        t[i] = tau0_optimal*W[i]*l[i] + tau1_optimal*max([W[i]*l[i]-kappa_optimal,0])\n",
    "    # total tax revenue\n",
    "    T = sum(t)\n",
    "    return -T"
   ]
  },
  {
   "cell_type": "code",
   "execution_count": 10,
   "metadata": {},
   "outputs": [
    {
     "name": "stdout",
     "output_type": "stream",
     "text": "tau0: 1.00, tau1: 1.00, kappa: 0.00 -> Tax revenue: 7848.507\n"
    }
   ],
   "source": [
    "# Use solver to obtain tau0, tau1 and kappa that should be implemented to maximize the tax revenue\n",
    "# set initial guess\n",
    "initial_guess = [0,0,0]\n",
    "# set bounds for parameters\n",
    "bounds = bounds = ((0,1),(0,1),(0,1))\n",
    "# solve minimization problem\n",
    "sol = optimize.minimize(total_tax_revenue,initial_guess,args=(N,W,l),method='SLSQP',bounds=bounds)\n",
    "\n",
    "# Obtain parameters\n",
    "tau0_best = sol.x[0]\n",
    "tau1_best = sol.x[1]\n",
    "kappa_best = sol.x[2]\n",
    "# Obtain the tax revenue\n",
    "T_best = -total_tax_revenue([tau0_best,tau1_best,kappa_best],N,W,l)\n",
    "# Print solution\n",
    "print(f'tau0: {tau0_best:.2f}, tau1: {tau1_best:.2f}, kappa: {kappa_best:.2f} -> Tax revenue: {T_best:.3f}') "
   ]
  }
 ]
}